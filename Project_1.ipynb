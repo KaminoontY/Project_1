{
 "cells": [
  {
   "cell_type": "markdown",
   "metadata": {},
   "source": [
    "# Проект: вариант 2"
   ]
  },
  {
   "cell_type": "markdown",
   "metadata": {},
   "source": [
    "Проект включает три задания:\n",
    "\n",
    "- Задание 1. A/B–тестирование\n",
    "- Задание 2. SQL\n",
    "- Задание 3. Python"
   ]
  },
  {
   "cell_type": "markdown",
   "metadata": {},
   "source": [
    "## Задание 1. A/B–тестирование\n",
    "\n",
    "### - Условие\n",
    "\n",
    "Одной из основных задач аналитика в нашей команде является корректное проведение экспериментов. Для этого мы применяем метод A/B–тестирования. В ходе тестирования одной гипотезы целевой группе была предложена новая механика оплаты услуг на сайте, у контрольной группы оставалась базовая механика. Необходимо проанализировать итоги эксперимента и сделать вывод, стоит ли запускать новую механику оплаты на всех пользователей.\n",
    "\n",
    "### - Входные данные\n",
    "\n",
    "В качестве входных данных 4 csv-файла:\n",
    "\n",
    "- **groups.csv** - файл с информацией о принадлежности пользователя к контрольной или экспериментальной группе (А – контроль, B – целевая группа) \n",
    "- **groups_add.csv** - дополнительный файл с пользователями, который вам прислали спустя 2 дня после передачи данных\n",
    "- **active_studs.csv** - файл с информацией о пользователях, которые зашли на платформу в дни проведения эксперимента. \n",
    "- **checks.csv** - файл с информацией об оплатах пользователей в дни проведения эксперимента. \n",
    "\n",
    "### - Вопросы\n",
    "\n",
    "Найти ответ на следующие вопросы:\n",
    "\n",
    "- На какие метрики смотрим в ходе анализа и почему?\n",
    "- Имеются ли различия в показателях и с чем они могут быть связаны?\n",
    "- Являются ли эти различия статистически значимыми?\n",
    "- Стоит ли запускать новую механику на всех пользователей?"
   ]
  },
  {
   "cell_type": "markdown",
   "metadata": {},
   "source": [
    "## Общий план исследования\n",
    "\n",
    "### 1.1. **Препроцессинг данных:**\n",
    "    - Посмотрим на данные\n",
    "    - Построим графики\n",
    "    \n",
    "### 1.2. **Формулировка гипотез:**\n",
    "    - Выберем метрику\n",
    "    - Построим графики\n",
    "    - Сформулируем предположения\n",
    "\n",
    "    \n",
    "### 1.3. **Проверка гипотез:**\n",
    "     - Выбираем подходящий тест\n",
    "     - Тестируем\n",
    "     \n",
    "     \n",
    "### 1.4. **Подведение итогов:**\n",
    "    - Сформулировать выводы\n",
    "    - Какие действия нужно предпринять разработчикам / бизнесу.\n"
   ]
  },
  {
   "cell_type": "markdown",
   "metadata": {},
   "source": [
    "### Импорт библиотек"
   ]
  },
  {
   "cell_type": "code",
   "execution_count": 14,
   "metadata": {},
   "outputs": [],
   "source": [
    "# Анализ данных\n",
    "import numpy as np\n",
    "import pandas as pd\n",
    "import scipy.stats as ss\n",
    "import requests\n",
    "from urllib.parse import urlencode\n",
    "\n",
    "# Визуализация данных\n",
    "import seaborn as sns\n",
    "import matplotlib.pyplot as plt\n",
    "%matplotlib inline\n",
    "\n",
    "# Статистический анализ\n",
    "import pingouin as pg\n",
    "from pingouin import power_ttest2n,  power_chi2\n",
    "\n",
    "import statsmodels.formula.api as smf\n",
    "import seaborn as sns\n",
    "import matplotlib.pyplot as plt\n",
    "from tqdm.auto import tqdm\n",
    "\n",
    "from statsmodels.stats.proportion import proportion_effectsize\n",
    "from statsmodels.stats.power import TTestIndPower"
   ]
  },
  {
   "cell_type": "markdown",
   "metadata": {},
   "source": [
    "### Блок функции построения графика"
   ]
  },
  {
   "cell_type": "code",
   "execution_count": 28,
   "metadata": {},
   "outputs": [],
   "source": [
    "def create_bar_plot_with_customization(data, \n",
    "                                       x_column, \n",
    "                                       y_column,\n",
    "                                       color_A=\"gray\",\n",
    "                                       color_B=\"orange\",\n",
    "                                       title=None, \n",
    "                                       x_label=None, \n",
    "                                       y_label=None,\n",
    "                                       legend_1=None,\n",
    "                                       legend_2=None,\n",
    "                                       annotate=True,\n",
    "                                       x_size=12,\n",
    "                                       y_size=6,\n",
    "                                       h=50,\n",
    "                                       decimal_places=1):\n",
    "    \n",
    "    colors = {data[x_column].unique()[0]: color_A, data[x_column].unique()[1]: color_B}\n",
    "    \n",
    "    plt.figure(figsize=(x_size, y_size))\n",
    "    ax = sns.barplot(data=data, x=x_column, y=y_column, palette=colors.values(), saturation=0.9)\n",
    "\n",
    "    # Подпись графика (используем значение по умолчанию, если не указано пользователем)\n",
    "    if title is not None:\n",
    "        plt.title(title)\n",
    "    if x_label is not None:\n",
    "        plt.xlabel(x_label)\n",
    "    if y_label is not None:\n",
    "        plt.ylabel(y_label)\n",
    "\n",
    "    # Легенда (используем значение по умолчанию, если не указано пользователем)\n",
    "    if legend_1 and legend_2 is not None:\n",
    "        legend_labels = [plt.Line2D([0], [0], color=color, lw=4, label=legend_1 if color == color_A else legend_2) for color in colors.values()]\n",
    "        plt.legend(handles=legend_labels, title='Легенда')\n",
    "    else:\n",
    "        legend_labels = [plt.Line2D([0], [0], color=color, lw=4, label=label if color == color_A else label) for label, color in colors.items()]\n",
    "        plt.legend(handles=legend_labels, title='Легенда')\n",
    "    \n",
    "    # Значения столбцов\n",
    "    if annotate:\n",
    "        for p in ax.patches:\n",
    "            value = round(p.get_height(), decimal_places)\n",
    "            ax.annotate(f'{value:.{decimal_places}f}', (p.get_x() + p.get_width() / 2., p.get_height() + h),\n",
    "                        ha='center', va='baseline', fontsize=12, color='black')"
   ]
  },
  {
   "cell_type": "markdown",
   "metadata": {},
   "source": [
    "### Блок функции загрузки данных"
   ]
  },
  {
   "cell_type": "code",
   "execution_count": 17,
   "metadata": {},
   "outputs": [],
   "source": [
    "def download_files_with_api(public_keys_sep):\n",
    "    \n",
    "    \"\"\"\n",
    "    Загружает файлы с использованием API Яндекс.Диска.\n",
    "\n",
    "    Параметры:\n",
    "    - public_keys_sep (list): Список кортежей, где каждый кортеж содержит два элемента:\n",
    "                             ссылку на файл (public_key) и разделитель CSV-файла (sep).\n",
    "\n",
    "    Возвращает:\n",
    "    - list: Список DataFrame, каждый из которых представляет собой данные из соответствующего файла.\n",
    "\n",
    "    Пример использования:\n",
    "    public_keys_sep = [\n",
    "                       ('https://disk.yandex.ru/d/UhyYx41rTt3clQ', ';'),\n",
    "                       ('https://disk.yandex.ru/d/5Kxrz02m3IBUwQ', ',')\n",
    "                      ]\n",
    "                       \n",
    "    dataframes = download_files_with_api(public_keys_sep)\n",
    "    df_1, df_2 = dataframes\n",
    "    \n",
    "    \"\"\"\n",
    "\n",
    "    # Список для хранения загруженных DataFrame\n",
    "    dataframes = []\n",
    "\n",
    "    for public_key, sep in public_keys_sep:\n",
    "        \n",
    "        # Получаем URL для загрузки файла\n",
    "        final_url = base_url + urlencode(dict(public_key=public_key))\n",
    "        response = requests.get(final_url)\n",
    "        download_url = response.json()['href']\n",
    "\n",
    "        # Загружаем файл в DataFrame\n",
    "        download_response = requests.get(download_url)\n",
    "        df = pd.read_csv(download_response.url, sep=sep)\n",
    "\n",
    "        # Добавляем DataFrame в список\n",
    "        dataframes.append(df)\n",
    "\n",
    "    return dataframes"
   ]
  },
  {
   "cell_type": "markdown",
   "metadata": {},
   "source": [
    "### 1.1. Препроцессинг данных"
   ]
  },
  {
   "cell_type": "markdown",
   "metadata": {},
   "source": [
    "1.1.1. Импорт исходных данных"
   ]
  },
  {
   "cell_type": "code",
   "execution_count": 20,
   "metadata": {},
   "outputs": [],
   "source": [
    "# Список из кортежей (публичный ключ, разделитель)\n",
    "public_keys_sep = [\n",
    "                    ('https://disk.yandex.ru/d/UhyYx41rTt3clQ', ';'),  # groups.csv\n",
    "                    ('https://disk.yandex.ru/d/5Kxrz02m3IBUwQ', ','),  # groups_add.csv\n",
    "                    ('https://disk.yandex.ru/d/Tbs44Bm6H_FwFQ', ','),  # active_studs.csv\n",
    "                    ('https://disk.yandex.ru/d/pH1q-VqcxXjsVA', ';')   # checks.csv\n",
    "                  ]\n",
    "\n",
    "# Загружаем данные\n",
    "dataframes = download_files_with_api(public_keys_sep)\n",
    "\n",
    "# dataframes содержит загруженные DataFrame в виде списка \n",
    "groups, groups_add, active_studs, checks = dataframes"
   ]
  },
  {
   "cell_type": "markdown",
   "metadata": {},
   "source": [
    "**1.1.2. Информация о принадлежности к группам**"
   ]
  },
  {
   "cell_type": "markdown",
   "metadata": {},
   "source": [
    "Данные выглядят следующим образом."
   ]
  },
  {
   "cell_type": "code",
   "execution_count": 29,
   "metadata": {},
   "outputs": [
    {
     "data": {
      "text/html": [
       "<div>\n",
       "<style scoped>\n",
       "    .dataframe tbody tr th:only-of-type {\n",
       "        vertical-align: middle;\n",
       "    }\n",
       "\n",
       "    .dataframe tbody tr th {\n",
       "        vertical-align: top;\n",
       "    }\n",
       "\n",
       "    .dataframe thead th {\n",
       "        text-align: right;\n",
       "    }\n",
       "</style>\n",
       "<table border=\"1\" class=\"dataframe\">\n",
       "  <thead>\n",
       "    <tr style=\"text-align: right;\">\n",
       "      <th></th>\n",
       "      <th>id</th>\n",
       "      <th>grp</th>\n",
       "    </tr>\n",
       "  </thead>\n",
       "  <tbody>\n",
       "    <tr>\n",
       "      <th>0</th>\n",
       "      <td>1489</td>\n",
       "      <td>B</td>\n",
       "    </tr>\n",
       "    <tr>\n",
       "      <th>1</th>\n",
       "      <td>1627</td>\n",
       "      <td>A</td>\n",
       "    </tr>\n",
       "    <tr>\n",
       "      <th>2</th>\n",
       "      <td>1768</td>\n",
       "      <td>B</td>\n",
       "    </tr>\n",
       "    <tr>\n",
       "      <th>3</th>\n",
       "      <td>1783</td>\n",
       "      <td>B</td>\n",
       "    </tr>\n",
       "    <tr>\n",
       "      <th>4</th>\n",
       "      <td>1794</td>\n",
       "      <td>A</td>\n",
       "    </tr>\n",
       "  </tbody>\n",
       "</table>\n",
       "</div>"
      ],
      "text/plain": [
       "     id grp\n",
       "0  1489   B\n",
       "1  1627   A\n",
       "2  1768   B\n",
       "3  1783   B\n",
       "4  1794   A"
      ]
     },
     "execution_count": 29,
     "metadata": {},
     "output_type": "execute_result"
    }
   ],
   "source": [
    "groups.head()"
   ]
  },
  {
   "cell_type": "markdown",
   "metadata": {},
   "source": [
    "**Общая информация о данных**"
   ]
  },
  {
   "cell_type": "code",
   "execution_count": 30,
   "metadata": {},
   "outputs": [
    {
     "name": "stdout",
     "output_type": "stream",
     "text": [
      "<class 'pandas.core.frame.DataFrame'>\n",
      "RangeIndex: 74484 entries, 0 to 74483\n",
      "Data columns (total 2 columns):\n",
      " #   Column  Non-Null Count  Dtype \n",
      "---  ------  --------------  ----- \n",
      " 0   id      74484 non-null  int64 \n",
      " 1   grp     74484 non-null  object\n",
      "dtypes: int64(1), object(1)\n",
      "memory usage: 1.1+ MB\n"
     ]
    }
   ],
   "source": [
    "groups.info()"
   ]
  },
  {
   "cell_type": "markdown",
   "metadata": {},
   "source": [
    "Пропуски отсутуствуют. Размер DataFrame составляет 74 484 строк."
   ]
  },
  {
   "cell_type": "markdown",
   "metadata": {},
   "source": [
    "**Проверка на наличие дубликатов**"
   ]
  },
  {
   "cell_type": "code",
   "execution_count": 31,
   "metadata": {},
   "outputs": [
    {
     "data": {
      "text/plain": [
       "0"
      ]
     },
     "execution_count": 31,
     "metadata": {},
     "output_type": "execute_result"
    }
   ],
   "source": [
    "groups.id.duplicated().sum()"
   ]
  },
  {
   "cell_type": "markdown",
   "metadata": {},
   "source": [
    "**Размер групп А и B**"
   ]
  },
  {
   "cell_type": "markdown",
   "metadata": {},
   "source": [
    "Оценим размер групп А и В"
   ]
  },
  {
   "cell_type": "code",
   "execution_count": 32,
   "metadata": {},
   "outputs": [],
   "source": [
    "counts_A_B = groups.grp.value_counts()\\\n",
    "                   .to_frame()\\\n",
    "                   .reset_index()\\\n",
    "                   .rename(columns={'index': 'grp', \n",
    "                                     'grp': 'group_size'})\\\n",
    "                   .sort_values(by='group_size', ascending=True)"
   ]
  },
  {
   "cell_type": "markdown",
   "metadata": {},
   "source": [
    "Визуализируем количестов пользователей в группах"
   ]
  },
  {
   "cell_type": "code",
   "execution_count": 33,
   "metadata": {},
   "outputs": [
    {
     "data": {
      "image/png": "[encoded data removed]",
      "text/plain": [
       "<Figure size 864x432 with 1 Axes>"
      ]
     },
     "metadata": {
      "needs_background": "light"
     },
     "output_type": "display_data"
    }
   ],
   "source": [
    "create_bar_plot_with_customization(data=counts_A_B, \n",
    "                                   x_column='grp', \n",
    "                                   y_column='group_size', \n",
    "                                   title='Размер групп А и В', \n",
    "                                   x_label='Группы', \n",
    "                                   y_label='Количество пользователей',\n",
    "                                   h=500,\n",
    "                                   legend_1 = 'А – контроль',\n",
    "                                   legend_2 = 'B – целевая'\n",
    "                                  )"
   ]
  },
  {
   "cell_type": "markdown",
   "metadata": {},
   "source": [
    "**1.1.2. Дополнительная информация о пользователях для данных предоставленных спустя 2 дня**"
   ]
  },
  {
   "cell_type": "markdown",
   "metadata": {},
   "source": [
    "Данные выглядят следующим образом."
   ]
  },
  {
   "cell_type": "code",
   "execution_count": 34,
   "metadata": {},
   "outputs": [
    {
     "data": {
      "text/html": [
       "<div>\n",
       "<style scoped>\n",
       "    .dataframe tbody tr th:only-of-type {\n",
       "        vertical-align: middle;\n",
       "    }\n",
       "\n",
       "    .dataframe tbody tr th {\n",
       "        vertical-align: top;\n",
       "    }\n",
       "\n",
       "    .dataframe thead th {\n",
       "        text-align: right;\n",
       "    }\n",
       "</style>\n",
       "<table border=\"1\" class=\"dataframe\">\n",
       "  <thead>\n",
       "    <tr style=\"text-align: right;\">\n",
       "      <th></th>\n",
       "      <th>id</th>\n",
       "      <th>grp</th>\n",
       "    </tr>\n",
       "  </thead>\n",
       "  <tbody>\n",
       "    <tr>\n",
       "      <th>0</th>\n",
       "      <td>5694584</td>\n",
       "      <td>B</td>\n",
       "    </tr>\n",
       "    <tr>\n",
       "      <th>1</th>\n",
       "      <td>5694830</td>\n",
       "      <td>B</td>\n",
       "    </tr>\n",
       "    <tr>\n",
       "      <th>2</th>\n",
       "      <td>5695057</td>\n",
       "      <td>B</td>\n",
       "    </tr>\n",
       "    <tr>\n",
       "      <th>3</th>\n",
       "      <td>5698872</td>\n",
       "      <td>B</td>\n",
       "    </tr>\n",
       "    <tr>\n",
       "      <th>4</th>\n",
       "      <td>5699067</td>\n",
       "      <td>B</td>\n",
       "    </tr>\n",
       "  </tbody>\n",
       "</table>\n",
       "</div>"
      ],
      "text/plain": [
       "        id grp\n",
       "0  5694584   B\n",
       "1  5694830   B\n",
       "2  5695057   B\n",
       "3  5698872   B\n",
       "4  5699067   B"
      ]
     },
     "execution_count": 34,
     "metadata": {},
     "output_type": "execute_result"
    }
   ],
   "source": [
    "groups_add.head()"
   ]
  },
  {
   "cell_type": "markdown",
   "metadata": {},
   "source": [
    "**Общая информация о данных**"
   ]
  },
  {
   "cell_type": "code",
   "execution_count": 35,
   "metadata": {},
   "outputs": [
    {
     "name": "stdout",
     "output_type": "stream",
     "text": [
      "<class 'pandas.core.frame.DataFrame'>\n",
      "RangeIndex: 92 entries, 0 to 91\n",
      "Data columns (total 2 columns):\n",
      " #   Column  Non-Null Count  Dtype \n",
      "---  ------  --------------  ----- \n",
      " 0   id      92 non-null     int64 \n",
      " 1   grp     92 non-null     object\n",
      "dtypes: int64(1), object(1)\n",
      "memory usage: 1.6+ KB\n"
     ]
    }
   ],
   "source": [
    "groups_add.info()"
   ]
  },
  {
   "cell_type": "markdown",
   "metadata": {},
   "source": [
    "Пропуски отсутуствуют. Размер DataFrame составляет 92 строк."
   ]
  },
  {
   "cell_type": "markdown",
   "metadata": {},
   "source": [
    "**Проверка на наличие дубликатов**"
   ]
  },
  {
   "cell_type": "code",
   "execution_count": 36,
   "metadata": {
    "scrolled": true
   },
   "outputs": [
    {
     "data": {
      "text/plain": [
       "0"
      ]
     },
     "execution_count": 36,
     "metadata": {},
     "output_type": "execute_result"
    }
   ],
   "source": [
    "groups_add.id.duplicated().sum()"
   ]
  },
  {
   "cell_type": "markdown",
   "metadata": {},
   "source": [
    "**Размер групп А и B для данных предоставленных спустя 2 дня**"
   ]
  },
  {
   "cell_type": "markdown",
   "metadata": {},
   "source": [
    "Оценим размер групп А и В"
   ]
  },
  {
   "cell_type": "code",
   "execution_count": 37,
   "metadata": {},
   "outputs": [],
   "source": [
    "counts_A_B_2_days = groups_add.grp.value_counts()\\\n",
    "                                  .to_frame()\\\n",
    "                                  .reset_index()\\\n",
    "                                  .rename(columns={'index': 'grp', \n",
    "                                                    'grp': 'group_size'})\\\n",
    "                                  .sort_values(by='group_size', ascending=True)"
   ]
  },
  {
   "cell_type": "markdown",
   "metadata": {},
   "source": [
    "Визуализируем количество пользователей в группах"
   ]
  },
  {
   "cell_type": "code",
   "execution_count": 38,
   "metadata": {},
   "outputs": [
    {
     "data": {
      "image/png": "[encoded data removed]",
      "text/plain": [
       "<Figure size 864x432 with 1 Axes>"
      ]
     },
     "metadata": {
      "needs_background": "light"
     },
     "output_type": "display_data"
    }
   ],
   "source": [
    "create_bar_plot_with_customization(data=counts_A_B_2_days, \n",
    "                                   x_column='grp', \n",
    "                                   y_column='group_size', \n",
    "                                   title='Размер групп А и В для данных предоставленных спустя 2 дня', \n",
    "                                   x_label='Группы', \n",
    "                                   y_label='Количество пользователей',\n",
    "                                   h=1,\n",
    "                                   legend_1 = 'А – контроль',\n",
    "                                   legend_2 = 'B – целевая'\n",
    "                                  )"
   ]
  },
  {
   "cell_type": "markdown",
   "metadata": {},
   "source": [
    "**1.1.3. Сопосталение groups и groups_add**"
   ]
  },
  {
   "cell_type": "markdown",
   "metadata": {},
   "source": [
    "Файл `groups_add.csv` является дополнительным и появился спустя 2 дня после передачи основных данных. Рассмотрим возможные влияния и факторы, которые следует учитывать **i**:\n",
    "\n",
    "Добавление **\"новых\"** пользователей:\n",
    "\n",
    "- Если в `groups_add.csv` содержатся данные о пользователях, которые были добавлены после начала эксперимента, это может повлиять на общую картину.\n",
    "- Новые пользователи могут иметь различное поведение и характеристики по сравнению с теми, кто был включен в исходный эксперимент.\n",
    "\n",
    "Изменение состава групп:\n",
    "\n",
    "- Файл может содержать информацию об изменении принадлежности к группам для некоторых пользователей. Например, если кто-то изначально попал в контрольную группу (A), а затем был перемещен в целевую группу (B) или наоборот.\n",
    "- Это может внести дополнительную сложность в интерпретацию результатов.\n",
    "\n",
    "Сдвиг во времени:\n",
    "\n",
    "- Файл, полученный спустя 2 дня, может содержать данные о действиях пользователей после окончания эксперимента.\n",
    "\n",
    "**i** - это только предположения"
   ]
  },
  {
   "cell_type": "markdown",
   "metadata": {},
   "source": [
    "**Проверим наши предположения о `groups_add`**"
   ]
  },
  {
   "cell_type": "markdown",
   "metadata": {},
   "source": [
    "Объеденим `groups` с `groups_add` через `outer`, чтобы не потерять данные."
   ]
  },
  {
   "cell_type": "code",
   "execution_count": 39,
   "metadata": {},
   "outputs": [],
   "source": [
    "# Объединение данных\n",
    "merged_groups = pd.merge(groups, groups_add, on='id', how='outer', suffixes=('_original', '_add'))"
   ]
  },
  {
   "cell_type": "markdown",
   "metadata": {},
   "source": [
    "Выведем результат объединения `groups` с `groups_add`"
   ]
  },
  {
   "cell_type": "code",
   "execution_count": 40,
   "metadata": {
    "scrolled": true
   },
   "outputs": [
    {
     "data": {
      "text/html": [
       "<div>\n",
       "<style scoped>\n",
       "    .dataframe tbody tr th:only-of-type {\n",
       "        vertical-align: middle;\n",
       "    }\n",
       "\n",
       "    .dataframe tbody tr th {\n",
       "        vertical-align: top;\n",
       "    }\n",
       "\n",
       "    .dataframe thead th {\n",
       "        text-align: right;\n",
       "    }\n",
       "</style>\n",
       "<table border=\"1\" class=\"dataframe\">\n",
       "  <thead>\n",
       "    <tr style=\"text-align: right;\">\n",
       "      <th></th>\n",
       "      <th>id</th>\n",
       "      <th>grp_original</th>\n",
       "      <th>grp_add</th>\n",
       "    </tr>\n",
       "  </thead>\n",
       "  <tbody>\n",
       "    <tr>\n",
       "      <th>0</th>\n",
       "      <td>1489</td>\n",
       "      <td>B</td>\n",
       "      <td>NaN</td>\n",
       "    </tr>\n",
       "    <tr>\n",
       "      <th>1</th>\n",
       "      <td>1627</td>\n",
       "      <td>A</td>\n",
       "      <td>NaN</td>\n",
       "    </tr>\n",
       "    <tr>\n",
       "      <th>2</th>\n",
       "      <td>1768</td>\n",
       "      <td>B</td>\n",
       "      <td>NaN</td>\n",
       "    </tr>\n",
       "    <tr>\n",
       "      <th>3</th>\n",
       "      <td>1783</td>\n",
       "      <td>B</td>\n",
       "      <td>NaN</td>\n",
       "    </tr>\n",
       "    <tr>\n",
       "      <th>4</th>\n",
       "      <td>1794</td>\n",
       "      <td>A</td>\n",
       "      <td>NaN</td>\n",
       "    </tr>\n",
       "  </tbody>\n",
       "</table>\n",
       "</div>"
      ],
      "text/plain": [
       "     id grp_original grp_add\n",
       "0  1489            B     NaN\n",
       "1  1627            A     NaN\n",
       "2  1768            B     NaN\n",
       "3  1783            B     NaN\n",
       "4  1794            A     NaN"
      ]
     },
     "execution_count": 40,
     "metadata": {},
     "output_type": "execute_result"
    }
   ],
   "source": [
    "merged_groups.head()"
   ]
  },
  {
   "cell_type": "markdown",
   "metadata": {},
   "source": [
    "Проверим действительно ли `groups_add` может повлиять на изначальный состав `groups` A и B."
   ]
  },
  {
   "cell_type": "code",
   "execution_count": 41,
   "metadata": {},
   "outputs": [],
   "source": [
    "# Поиск изменений в принадлежности к группам\n",
    "changed_users = merged_groups[ \n",
    "                               (merged_groups['grp_original'] != merged_groups['grp_add']) \n",
    "                              & \n",
    "                               (merged_groups['grp_original'] == pd.notna(merged_groups['grp_original'])) \n",
    "                             ]"
   ]
  },
  {
   "cell_type": "markdown",
   "metadata": {},
   "source": [
    "Количество изменений в принадлежности к группам"
   ]
  },
  {
   "cell_type": "code",
   "execution_count": 42,
   "metadata": {},
   "outputs": [
    {
     "data": {
      "text/plain": [
       "0"
      ]
     },
     "execution_count": 42,
     "metadata": {},
     "output_type": "execute_result"
    }
   ],
   "source": [
    "changed_users.shape[0]"
   ]
  },
  {
   "cell_type": "markdown",
   "metadata": {},
   "source": [
    "Провереим **\"новых\"** пользователей (т.е. изначально не попавших в `groups`)"
   ]
  },
  {
   "cell_type": "code",
   "execution_count": 43,
   "metadata": {},
   "outputs": [],
   "source": [
    "# Поиск новых пользователей\n",
    "new_users = merged_groups[ pd.notna(merged_groups['grp_original']) == False ]"
   ]
  },
  {
   "cell_type": "markdown",
   "metadata": {},
   "source": [
    "Количество новых пользователей"
   ]
  },
  {
   "cell_type": "code",
   "execution_count": 44,
   "metadata": {},
   "outputs": [
    {
     "data": {
      "text/plain": [
       "92"
      ]
     },
     "execution_count": 44,
     "metadata": {},
     "output_type": "execute_result"
    }
   ],
   "source": [
    "new_users.shape[0]"
   ]
  },
  {
   "cell_type": "markdown",
   "metadata": {},
   "source": [
    "**Промежуточный вывод по разделу 1.1.3:**"
   ]
  },
  {
   "cell_type": "markdown",
   "metadata": {},
   "source": [
    "- Предположение об изменении состава групп не подтвердилось.\n",
    "- По результатам сравнения `groups` с `groups_add` мы можем сказать, что `groups_add` содержит информацию о принадлежности пользователй к группам, которые не попали в файл `groups`. Однка у нас недостаточно данных, что бы утверждать о времени включения пользователей из `groups_add` в эксперемент. Попробуем выяснить в дальнейшем анализе с учтом `active_studs` и `checks`"
   ]
  },
  {
   "cell_type": "markdown",
   "metadata": {},
   "source": [
    "**Объедененный DataFrame по `groups` с `groups_add`**"
   ]
  },
  {
   "cell_type": "markdown",
   "metadata": {},
   "source": [
    "Дополним `groups` данными из `groups_add` через concat для использования в дальнейшем анализе."
   ]
  },
  {
   "cell_type": "code",
   "execution_count": 45,
   "metadata": {},
   "outputs": [],
   "source": [
    "# Объединение данных\n",
    "concat_groups = pd.concat([groups, groups_add])"
   ]
  },
  {
   "cell_type": "markdown",
   "metadata": {},
   "source": [
    "Проверим результата объединения"
   ]
  },
  {
   "cell_type": "code",
   "execution_count": 46,
   "metadata": {},
   "outputs": [
    {
     "name": "stdout",
     "output_type": "stream",
     "text": [
      "Объединение успешно!\n"
     ]
    }
   ],
   "source": [
    "if concat_groups.shape[0] - groups.shape[0] == new_users.shape[0]:\n",
    "    print(f'Объединение успешно!')\n",
    "else:\n",
    "    print(f'Что то пошло не так!')"
   ]
  },
  {
   "cell_type": "markdown",
   "metadata": {},
   "source": [
    "Перед формированием итогового DataFrame, с целью выбора метрик и оценки статистически значимых различий,\n",
    "\n",
    "рассмотри оставшиеся данные по `active_studs` и `checks`"
   ]
  },
  {
   "cell_type": "markdown",
   "metadata": {},
   "source": [
    "**1.1.4. Информация о пользователях, которые зашли на платформу в дни проведения эксперимента**"
   ]
  },
  {
   "cell_type": "markdown",
   "metadata": {},
   "source": [
    "Данные выглядят следующим образом."
   ]
  },
  {
   "cell_type": "code",
   "execution_count": 47,
   "metadata": {},
   "outputs": [
    {
     "data": {
      "text/html": [
       "<div>\n",
       "<style scoped>\n",
       "    .dataframe tbody tr th:only-of-type {\n",
       "        vertical-align: middle;\n",
       "    }\n",
       "\n",
       "    .dataframe tbody tr th {\n",
       "        vertical-align: top;\n",
       "    }\n",
       "\n",
       "    .dataframe thead th {\n",
       "        text-align: right;\n",
       "    }\n",
       "</style>\n",
       "<table border=\"1\" class=\"dataframe\">\n",
       "  <thead>\n",
       "    <tr style=\"text-align: right;\">\n",
       "      <th></th>\n",
       "      <th>student_id</th>\n",
       "    </tr>\n",
       "  </thead>\n",
       "  <tbody>\n",
       "    <tr>\n",
       "      <th>0</th>\n",
       "      <td>581585</td>\n",
       "    </tr>\n",
       "    <tr>\n",
       "      <th>1</th>\n",
       "      <td>5723133</td>\n",
       "    </tr>\n",
       "    <tr>\n",
       "      <th>2</th>\n",
       "      <td>3276743</td>\n",
       "    </tr>\n",
       "    <tr>\n",
       "      <th>3</th>\n",
       "      <td>4238589</td>\n",
       "    </tr>\n",
       "    <tr>\n",
       "      <th>4</th>\n",
       "      <td>4475369</td>\n",
       "    </tr>\n",
       "  </tbody>\n",
       "</table>\n",
       "</div>"
      ],
      "text/plain": [
       "   student_id\n",
       "0      581585\n",
       "1     5723133\n",
       "2     3276743\n",
       "3     4238589\n",
       "4     4475369"
      ]
     },
     "execution_count": 47,
     "metadata": {},
     "output_type": "execute_result"
    }
   ],
   "source": [
    "active_studs.head()"
   ]
  },
  {
   "cell_type": "markdown",
   "metadata": {},
   "source": [
    "**Общая информация о данных**"
   ]
  },
  {
   "cell_type": "code",
   "execution_count": 48,
   "metadata": {},
   "outputs": [
    {
     "name": "stdout",
     "output_type": "stream",
     "text": [
      "<class 'pandas.core.frame.DataFrame'>\n",
      "RangeIndex: 8341 entries, 0 to 8340\n",
      "Data columns (total 1 columns):\n",
      " #   Column      Non-Null Count  Dtype\n",
      "---  ------      --------------  -----\n",
      " 0   student_id  8341 non-null   int64\n",
      "dtypes: int64(1)\n",
      "memory usage: 65.3 KB\n"
     ]
    }
   ],
   "source": [
    "active_studs.info()"
   ]
  },
  {
   "cell_type": "markdown",
   "metadata": {},
   "source": [
    "Пропуски отсутуствуют. Размер DataFrame составляет 8 341 строк."
   ]
  },
  {
   "cell_type": "markdown",
   "metadata": {},
   "source": [
    "**Проверка на наличие дубликатов**"
   ]
  },
  {
   "cell_type": "code",
   "execution_count": 49,
   "metadata": {
    "scrolled": false
   },
   "outputs": [
    {
     "data": {
      "text/plain": [
       "0"
      ]
     },
     "execution_count": 49,
     "metadata": {},
     "output_type": "execute_result"
    }
   ],
   "source": [
    "active_studs.duplicated().sum()"
   ]
  },
  {
   "cell_type": "markdown",
   "metadata": {},
   "source": [
    "**1.1.5. Информация об оплатах пользователей в дни проведения эксперимента**"
   ]
  },
  {
   "cell_type": "markdown",
   "metadata": {},
   "source": [
    "Данные выглядят следующим образом."
   ]
  },
  {
   "cell_type": "code",
   "execution_count": 50,
   "metadata": {},
   "outputs": [
    {
     "data": {
      "text/html": [
       "<div>\n",
       "<style scoped>\n",
       "    .dataframe tbody tr th:only-of-type {\n",
       "        vertical-align: middle;\n",
       "    }\n",
       "\n",
       "    .dataframe tbody tr th {\n",
       "        vertical-align: top;\n",
       "    }\n",
       "\n",
       "    .dataframe thead th {\n",
       "        text-align: right;\n",
       "    }\n",
       "</style>\n",
       "<table border=\"1\" class=\"dataframe\">\n",
       "  <thead>\n",
       "    <tr style=\"text-align: right;\">\n",
       "      <th></th>\n",
       "      <th>student_id</th>\n",
       "      <th>rev</th>\n",
       "    </tr>\n",
       "  </thead>\n",
       "  <tbody>\n",
       "    <tr>\n",
       "      <th>0</th>\n",
       "      <td>1627</td>\n",
       "      <td>990.0</td>\n",
       "    </tr>\n",
       "    <tr>\n",
       "      <th>1</th>\n",
       "      <td>3185</td>\n",
       "      <td>690.0</td>\n",
       "    </tr>\n",
       "    <tr>\n",
       "      <th>2</th>\n",
       "      <td>25973</td>\n",
       "      <td>690.0</td>\n",
       "    </tr>\n",
       "    <tr>\n",
       "      <th>3</th>\n",
       "      <td>26280</td>\n",
       "      <td>690.0</td>\n",
       "    </tr>\n",
       "    <tr>\n",
       "      <th>4</th>\n",
       "      <td>100300</td>\n",
       "      <td>990.0</td>\n",
       "    </tr>\n",
       "  </tbody>\n",
       "</table>\n",
       "</div>"
      ],
      "text/plain": [
       "   student_id    rev\n",
       "0        1627  990.0\n",
       "1        3185  690.0\n",
       "2       25973  690.0\n",
       "3       26280  690.0\n",
       "4      100300  990.0"
      ]
     },
     "execution_count": 50,
     "metadata": {},
     "output_type": "execute_result"
    }
   ],
   "source": [
    "checks.head()"
   ]
  },
  {
   "cell_type": "markdown",
   "metadata": {},
   "source": [
    "**Общая информация о данных**"
   ]
  },
  {
   "cell_type": "code",
   "execution_count": 51,
   "metadata": {},
   "outputs": [
    {
     "name": "stdout",
     "output_type": "stream",
     "text": [
      "<class 'pandas.core.frame.DataFrame'>\n",
      "RangeIndex: 541 entries, 0 to 540\n",
      "Data columns (total 2 columns):\n",
      " #   Column      Non-Null Count  Dtype  \n",
      "---  ------      --------------  -----  \n",
      " 0   student_id  541 non-null    int64  \n",
      " 1   rev         541 non-null    float64\n",
      "dtypes: float64(1), int64(1)\n",
      "memory usage: 8.6 KB\n"
     ]
    }
   ],
   "source": [
    "checks.info()"
   ]
  },
  {
   "cell_type": "markdown",
   "metadata": {},
   "source": [
    "Пропуски отсутуствуют. Размер DataFrame составляет 541 строку."
   ]
  },
  {
   "cell_type": "markdown",
   "metadata": {},
   "source": [
    "**Проверка на наличие дубликатов**"
   ]
  },
  {
   "cell_type": "code",
   "execution_count": 52,
   "metadata": {
    "scrolled": false
   },
   "outputs": [
    {
     "data": {
      "text/plain": [
       "0"
      ]
     },
     "execution_count": 52,
     "metadata": {},
     "output_type": "execute_result"
    }
   ],
   "source": [
    "checks.duplicated().sum()"
   ]
  },
  {
   "cell_type": "markdown",
   "metadata": {},
   "source": [
    "**1.1.6. Сопоставление `groups_add` с `active_studs` и `checks`**"
   ]
  },
  {
   "cell_type": "markdown",
   "metadata": {},
   "source": [
    "Проверим содержиться ли информация о пользователях из `groups_add` в `active_studs` и `checks`"
   ]
  },
  {
   "cell_type": "markdown",
   "metadata": {},
   "source": [
    "**Объеденим `groups_add` с `active_studs` через `inner`**"
   ]
  },
  {
   "cell_type": "code",
   "execution_count": 53,
   "metadata": {},
   "outputs": [],
   "source": [
    "# Объединение данных\n",
    "merged_groups_add_with_active_studs = pd.merge(groups_add, \n",
    "                                               active_studs, \n",
    "                                               left_on='id', \n",
    "                                               right_on='student_id', \n",
    "                                               how='inner')\\\n",
    "                                               .drop(columns={'student_id'})"
   ]
  },
  {
   "cell_type": "markdown",
   "metadata": {},
   "source": [
    "Посмотри на распределение пользователей по группам из `groups_add`, которые участовали в эксперементе"
   ]
  },
  {
   "cell_type": "code",
   "execution_count": 54,
   "metadata": {
    "scrolled": false
   },
   "outputs": [],
   "source": [
    "users_add_participated_in_experiment = merged_groups_add_with_active_studs.grp.value_counts()\\\n",
    "                                                                          .to_frame()\\\n",
    "                                                                          .reset_index()\\\n",
    "                                                                          .rename(columns={'index': 'grp', \n",
    "                                                                                            'grp': 'group_size'})\\\n",
    "                                                                          .sort_values(by='group_size', ascending=True)"
   ]
  },
  {
   "cell_type": "markdown",
   "metadata": {},
   "source": [
    "Визуализируем количестов пользователей в группах"
   ]
  },
  {
   "cell_type": "code",
   "execution_count": 55,
   "metadata": {},
   "outputs": [
    {
     "data": {
      "image/png": "[encoded data removed]",
      "text/plain": [
       "<Figure size 864x432 with 1 Axes>"
      ]
     },
     "metadata": {
      "needs_background": "light"
     },
     "output_type": "display_data"
    }
   ],
   "source": [
    "create_bar_plot_with_customization(data=users_add_participated_in_experiment, \n",
    "                                   x_column='grp', \n",
    "                                   y_column='group_size', \n",
    "                                   title='Размер групп А и В для данных предоставленных спустя 2 дня с условием участия в эксперементе', \n",
    "                                   x_label='Группы', \n",
    "                                   y_label='Количество пользователей',\n",
    "                                   h=0.1,\n",
    "                                   legend_1 = 'А – контроль',\n",
    "                                   legend_2 = 'B – целевая'\n",
    "                                  )"
   ]
  },
  {
   "cell_type": "markdown",
   "metadata": {},
   "source": [
    "Количество пользователей из `groups_add`, которые зашли на платформу в дни проведения эксперимента `active_studs`."
   ]
  },
  {
   "cell_type": "code",
   "execution_count": 56,
   "metadata": {
    "scrolled": false
   },
   "outputs": [
    {
     "data": {
      "text/plain": [
       "13"
      ]
     },
     "execution_count": 56,
     "metadata": {},
     "output_type": "execute_result"
    }
   ],
   "source": [
    "merged_groups_add_with_active_studs.shape[0]"
   ]
  },
  {
   "cell_type": "markdown",
   "metadata": {},
   "source": [
    "**Объеденим `groups_add` с `checks` через `inner`**"
   ]
  },
  {
   "cell_type": "code",
   "execution_count": 57,
   "metadata": {},
   "outputs": [],
   "source": [
    "# Объединение данных\n",
    "merged_groups_add_with_checks = pd.merge(groups_add, \n",
    "                                         checks, \n",
    "                                         left_on='id', \n",
    "                                         right_on='student_id', \n",
    "                                         how='inner')\\\n",
    "                                         .drop(columns={'student_id'})"
   ]
  },
  {
   "cell_type": "markdown",
   "metadata": {},
   "source": [
    "Выведем информацию о \"новом\" пользователе, который что-то оплатил"
   ]
  },
  {
   "cell_type": "code",
   "execution_count": 58,
   "metadata": {},
   "outputs": [
    {
     "data": {
      "text/html": [
       "<div>\n",
       "<style scoped>\n",
       "    .dataframe tbody tr th:only-of-type {\n",
       "        vertical-align: middle;\n",
       "    }\n",
       "\n",
       "    .dataframe tbody tr th {\n",
       "        vertical-align: top;\n",
       "    }\n",
       "\n",
       "    .dataframe thead th {\n",
       "        text-align: right;\n",
       "    }\n",
       "</style>\n",
       "<table border=\"1\" class=\"dataframe\">\n",
       "  <thead>\n",
       "    <tr style=\"text-align: right;\">\n",
       "      <th></th>\n",
       "      <th>id</th>\n",
       "      <th>grp</th>\n",
       "      <th>rev</th>\n",
       "    </tr>\n",
       "  </thead>\n",
       "  <tbody>\n",
       "    <tr>\n",
       "      <th>0</th>\n",
       "      <td>5740903</td>\n",
       "      <td>B</td>\n",
       "      <td>1900.0</td>\n",
       "    </tr>\n",
       "  </tbody>\n",
       "</table>\n",
       "</div>"
      ],
      "text/plain": [
       "        id grp     rev\n",
       "0  5740903   B  1900.0"
      ]
     },
     "execution_count": 58,
     "metadata": {},
     "output_type": "execute_result"
    }
   ],
   "source": [
    "merged_groups_add_with_checks"
   ]
  },
  {
   "cell_type": "markdown",
   "metadata": {},
   "source": [
    "Количество пользователей из `groups_add`, которые что-то оплатили в `checks`."
   ]
  },
  {
   "cell_type": "code",
   "execution_count": 59,
   "metadata": {
    "scrolled": false
   },
   "outputs": [
    {
     "data": {
      "text/plain": [
       "1"
      ]
     },
     "execution_count": 59,
     "metadata": {},
     "output_type": "execute_result"
    }
   ],
   "source": [
    "merged_groups_add_with_checks.shape[0]"
   ]
  },
  {
   "cell_type": "markdown",
   "metadata": {},
   "source": [
    "**Объеденим результат `merged_groups_add_with_active_studs` с `checks` через `inner`**"
   ]
  },
  {
   "cell_type": "code",
   "execution_count": 60,
   "metadata": {},
   "outputs": [],
   "source": [
    "# Объединение данных\n",
    "merged_groups_add_with_active_studs_with_checks = pd.merge(merged_groups_add_with_active_studs, \n",
    "                                                           checks, \n",
    "                                                           left_on='id', \n",
    "                                                           right_on='student_id', \n",
    "                                                           how='inner')\\\n",
    "                                                          .drop(columns={'student_id'})"
   ]
  },
  {
   "cell_type": "markdown",
   "metadata": {},
   "source": [
    "Выведем информацию о \"новом\" пользователе, который участвовал в эксперементе и что-то оплатил"
   ]
  },
  {
   "cell_type": "code",
   "execution_count": 61,
   "metadata": {
    "scrolled": true
   },
   "outputs": [
    {
     "data": {
      "text/html": [
       "<div>\n",
       "<style scoped>\n",
       "    .dataframe tbody tr th:only-of-type {\n",
       "        vertical-align: middle;\n",
       "    }\n",
       "\n",
       "    .dataframe tbody tr th {\n",
       "        vertical-align: top;\n",
       "    }\n",
       "\n",
       "    .dataframe thead th {\n",
       "        text-align: right;\n",
       "    }\n",
       "</style>\n",
       "<table border=\"1\" class=\"dataframe\">\n",
       "  <thead>\n",
       "    <tr style=\"text-align: right;\">\n",
       "      <th></th>\n",
       "      <th>id</th>\n",
       "      <th>grp</th>\n",
       "      <th>rev</th>\n",
       "    </tr>\n",
       "  </thead>\n",
       "  <tbody>\n",
       "    <tr>\n",
       "      <th>0</th>\n",
       "      <td>5740903</td>\n",
       "      <td>B</td>\n",
       "      <td>1900.0</td>\n",
       "    </tr>\n",
       "  </tbody>\n",
       "</table>\n",
       "</div>"
      ],
      "text/plain": [
       "        id grp     rev\n",
       "0  5740903   B  1900.0"
      ]
     },
     "execution_count": 61,
     "metadata": {},
     "output_type": "execute_result"
    }
   ],
   "source": [
    "merged_groups_add_with_active_studs_with_checks"
   ]
  },
  {
   "cell_type": "markdown",
   "metadata": {},
   "source": [
    "Количество пользователей из `groups_add`, которые что-то оплатили и при этом участвовали в эксперементе."
   ]
  },
  {
   "cell_type": "code",
   "execution_count": 62,
   "metadata": {},
   "outputs": [
    {
     "data": {
      "text/plain": [
       "1"
      ]
     },
     "execution_count": 62,
     "metadata": {},
     "output_type": "execute_result"
    }
   ],
   "source": [
    "merged_groups_add_with_active_studs_with_checks.shape[0]"
   ]
  },
  {
   "cell_type": "markdown",
   "metadata": {},
   "source": [
    "**Промежуточный вывод по разделу 1.1.6:**"
   ]
  },
  {
   "cell_type": "markdown",
   "metadata": {},
   "source": [
    "- Выявлено **13** пользователей из `groups_add`, которые учавствовали в эксперементе.\n",
    "- Из **13** пользователей **1** произвел оплату на сумму **1900** под **id 5740903** в целевой группе **B**.\n",
    "- Распределение пользователей по группам участвовших в эксперементе схоже  с данными `groups`.\n",
    "\n",
    "Зафиксировано, что часть пользователей из `groups_add` участвовало в эксперементе и частично попало в группу **B**. \n",
    "Информация о пользователях участвовавших в эксперементе `groups_add` содержиться в `active_studs`."
   ]
  },
  {
   "cell_type": "markdown",
   "metadata": {},
   "source": [
    "**1.1.7. Неактивные пользователи**"
   ]
  },
  {
   "cell_type": "markdown",
   "metadata": {},
   "source": [
    "Пользователи оплативншие курс, которые не заходили на платформу в период эксперемента"
   ]
  },
  {
   "cell_type": "code",
   "execution_count": 161,
   "metadata": {},
   "outputs": [],
   "source": [
    "not_active_studs_by = concat_groups[\n",
    "                                       (concat_groups['id'].isin(checks['student_id']))\n",
    "                                    & \n",
    "                                      ~(concat_groups['id'].isin(active_studs['student_id']))\n",
    "                                   ]"
   ]
  },
  {
   "cell_type": "markdown",
   "metadata": {},
   "source": [
    "Количество неактивных пользователей оплативших курсы"
   ]
  },
  {
   "cell_type": "code",
   "execution_count": 162,
   "metadata": {},
   "outputs": [
    {
     "data": {
      "text/plain": [
       "149"
      ]
     },
     "execution_count": 162,
     "metadata": {},
     "output_type": "execute_result"
    }
   ],
   "source": [
    "not_active_studs_by.shape[0]"
   ]
  },
  {
   "cell_type": "markdown",
   "metadata": {},
   "source": [
    "Пользователи не оплатившие курс, которые не заходили на платформу в период эксперемента"
   ]
  },
  {
   "cell_type": "code",
   "execution_count": 165,
   "metadata": {},
   "outputs": [],
   "source": [
    "not_active_studs_not_by = concat_groups[\n",
    "                                          ~(concat_groups['id'].isin(checks['student_id']))\n",
    "                                        & \n",
    "                                          ~(concat_groups['id'].isin(active_studs['student_id']))\n",
    "                                        ]"
   ]
  },
  {
   "cell_type": "markdown",
   "metadata": {},
   "source": [
    "Количества неактивных кользователей не оплативших курсы"
   ]
  },
  {
   "cell_type": "code",
   "execution_count": 164,
   "metadata": {},
   "outputs": [
    {
     "data": {
      "text/plain": [
       "66086"
      ]
     },
     "execution_count": 164,
     "metadata": {},
     "output_type": "execute_result"
    }
   ],
   "source": [
    "not_active_studs_not_by.shape[0]"
   ]
  },
  {
   "cell_type": "markdown",
   "metadata": {},
   "source": [
    "Объеденим результаты по пользователям купившим и не купившим курсы, которые не заходили на платформу в период эксперемента"
   ]
  },
  {
   "cell_type": "code",
   "execution_count": 167,
   "metadata": {},
   "outputs": [],
   "source": [
    "not_active_studs = pd.concat([not_active_studs_by, not_active_studs_not_by])"
   ]
  },
  {
   "cell_type": "markdown",
   "metadata": {},
   "source": [
    "Проверим коректность объединения не активных пользователей относительно общего количества пользователей в выборке"
   ]
  },
  {
   "cell_type": "code",
   "execution_count": 169,
   "metadata": {},
   "outputs": [
    {
     "name": "stdout",
     "output_type": "stream",
     "text": [
      "Объединение успешно!\n"
     ]
    }
   ],
   "source": [
    "if not_active_studs.shape[0] + active_studs.shape[0] == concat_groups.shape[0]:\n",
    "    print(f'Объединение успешно!')\n",
    "else:\n",
    "    print(f'Что то пошло не так!')"
   ]
  },
  {
   "cell_type": "markdown",
   "metadata": {},
   "source": [
    "Дополним данные о неактивных пользователях информацией cвязанной с покупкаи курса.\\\n",
    "Переименуем столбец `id` в `student_id` для удобства и порядка."
   ]
  },
  {
   "cell_type": "code",
   "execution_count": 172,
   "metadata": {},
   "outputs": [],
   "source": [
    "# Объединение данных с checks\n",
    "experiment_users_data_not_active = pd.merge(not_active_studs, \n",
    "                                            checks,\n",
    "                                            left_on='id',\n",
    "                                            right_on='student_id',  \n",
    "                                            how='left')\\\n",
    "                                      .drop(columns={'student_id'})\\\n",
    "                                      .rename(columns={'id': 'student_id'})"
   ]
  },
  {
   "cell_type": "markdown",
   "metadata": {},
   "source": [
    "Выведем результат объединения для проверки"
   ]
  },
  {
   "cell_type": "code",
   "execution_count": 183,
   "metadata": {},
   "outputs": [
    {
     "data": {
      "text/html": [
       "<div>\n",
       "<style scoped>\n",
       "    .dataframe tbody tr th:only-of-type {\n",
       "        vertical-align: middle;\n",
       "    }\n",
       "\n",
       "    .dataframe tbody tr th {\n",
       "        vertical-align: top;\n",
       "    }\n",
       "\n",
       "    .dataframe thead th {\n",
       "        text-align: right;\n",
       "    }\n",
       "</style>\n",
       "<table border=\"1\" class=\"dataframe\">\n",
       "  <thead>\n",
       "    <tr style=\"text-align: right;\">\n",
       "      <th></th>\n",
       "      <th>student_id</th>\n",
       "      <th>grp</th>\n",
       "      <th>rev</th>\n",
       "    </tr>\n",
       "  </thead>\n",
       "  <tbody>\n",
       "    <tr>\n",
       "      <th>0</th>\n",
       "      <td>3185</td>\n",
       "      <td>B</td>\n",
       "      <td>690.0</td>\n",
       "    </tr>\n",
       "    <tr>\n",
       "      <th>1</th>\n",
       "      <td>25973</td>\n",
       "      <td>B</td>\n",
       "      <td>690.0</td>\n",
       "    </tr>\n",
       "    <tr>\n",
       "      <th>2</th>\n",
       "      <td>26280</td>\n",
       "      <td>B</td>\n",
       "      <td>690.0</td>\n",
       "    </tr>\n",
       "    <tr>\n",
       "      <th>3</th>\n",
       "      <td>100645</td>\n",
       "      <td>B</td>\n",
       "      <td>630.0</td>\n",
       "    </tr>\n",
       "    <tr>\n",
       "      <th>4</th>\n",
       "      <td>102534</td>\n",
       "      <td>B</td>\n",
       "      <td>580.0</td>\n",
       "    </tr>\n",
       "  </tbody>\n",
       "</table>\n",
       "</div>"
      ],
      "text/plain": [
       "   student_id grp    rev\n",
       "0        3185   B  690.0\n",
       "1       25973   B  690.0\n",
       "2       26280   B  690.0\n",
       "3      100645   B  630.0\n",
       "4      102534   B  580.0"
      ]
     },
     "execution_count": 183,
     "metadata": {},
     "output_type": "execute_result"
    }
   ],
   "source": [
    "experiment_users_data_not_active.head()"
   ]
  },
  {
   "cell_type": "markdown",
   "metadata": {},
   "source": [
    "Проверим полноту данных по оплате курсов относительно итогового количества произведенным покупок"
   ]
  },
  {
   "cell_type": "code",
   "execution_count": 182,
   "metadata": {},
   "outputs": [
    {
     "name": "stdout",
     "output_type": "stream",
     "text": [
      "Объединение успешно!\n"
     ]
    }
   ],
   "source": [
    "if experiment_users_data_not_active.rev.notna().sum() + experiment_users_data_active.rev.notna().sum() == checks.shape[0]:\n",
    "    print(f'Объединение успешно!')\n",
    "else:\n",
    "    print(f'Что то пошло не так!')"
   ]
  },
  {
   "cell_type": "markdown",
   "metadata": {},
   "source": [
    "Посмотри на распределение неактиных пользователей"
   ]
  },
  {
   "cell_type": "code",
   "execution_count": 187,
   "metadata": {
    "scrolled": false
   },
   "outputs": [],
   "source": [
    "experiment_users_data_not_active = experiment_users_data_not_active.grp.value_counts()\\\n",
    "                                                                          .to_frame()\\\n",
    "                                                                          .reset_index()\\\n",
    "                                                                          .rename(columns={'index': 'grp', \n",
    "                                                                                            'grp': 'group_size'})\\\n",
    "                                                                          .sort_values(by='group_size', ascending=True)"
   ]
  },
  {
   "cell_type": "markdown",
   "metadata": {},
   "source": [
    "Визуализируем количестов неактивных пользователей по группам"
   ]
  },
  {
   "cell_type": "code",
   "execution_count": 194,
   "metadata": {},
   "outputs": [
    {
     "data": {
      "image/png": "[encoded data removed]",
      "text/plain": [
       "<Figure size 864x432 with 1 Axes>"
      ]
     },
     "metadata": {
      "needs_background": "light"
     },
     "output_type": "display_data"
    }
   ],
   "source": [
    "create_bar_plot_with_customization(data=experiment_users_data_not_active, \n",
    "                                   x_column='grp', \n",
    "                                   y_column='group_size', \n",
    "                                   title='Размер групп А и В для не активных пользователей', \n",
    "                                   x_label='Группы', \n",
    "                                   y_label='Количество пользователей',\n",
    "                                   h=100,\n",
    "                                   legend_1 = 'А – контроль',\n",
    "                                   legend_2 = 'B – целевая'\n",
    "                                  )"
   ]
  },
  {
   "cell_type": "markdown",
   "metadata": {},
   "source": [
    "**1.1.8. Результирующий DataFrame по активным пользователям**"
   ]
  },
  {
   "cell_type": "markdown",
   "metadata": {},
   "source": [
    "С целью сохранения корректности сравнения результатов, оставим только тех пользователей, которые приняли участие в эксперементе по данным `active_studs`"
   ]
  },
  {
   "cell_type": "markdown",
   "metadata": {},
   "source": [
    "Объеденим результаты по `active_studs` с дополненной информацией по `concat_groups` (содержит данные из: `groups`, `groups_add`) через `left` [п 1.1.3.], что бы не потерять данные из `active_studs`."
   ]
  },
  {
   "cell_type": "code",
   "execution_count": 185,
   "metadata": {},
   "outputs": [],
   "source": [
    "# Объединение данных с concat_groups\n",
    "experiment_users_data = pd.merge(active_studs, \n",
    "                                 concat_groups, \n",
    "                                 left_on='student_id', \n",
    "                                 right_on='id', \n",
    "                                 how='left')\\\n",
    "                                 .drop(columns={'id'})\n",
    "# Объединение данных с checks\n",
    "experiment_users_data = pd.merge(experiment_users_data, \n",
    "                                 checks, \n",
    "                                 on='student_id',  \n",
    "                                 how='left')"
   ]
  },
  {
   "cell_type": "markdown",
   "metadata": {},
   "source": [
    "Выведем результат объединения для проверки"
   ]
  },
  {
   "cell_type": "code",
   "execution_count": 186,
   "metadata": {},
   "outputs": [
    {
     "data": {
      "text/html": [
       "<div>\n",
       "<style scoped>\n",
       "    .dataframe tbody tr th:only-of-type {\n",
       "        vertical-align: middle;\n",
       "    }\n",
       "\n",
       "    .dataframe tbody tr th {\n",
       "        vertical-align: top;\n",
       "    }\n",
       "\n",
       "    .dataframe thead th {\n",
       "        text-align: right;\n",
       "    }\n",
       "</style>\n",
       "<table border=\"1\" class=\"dataframe\">\n",
       "  <thead>\n",
       "    <tr style=\"text-align: right;\">\n",
       "      <th></th>\n",
       "      <th>student_id</th>\n",
       "      <th>grp</th>\n",
       "      <th>rev</th>\n",
       "    </tr>\n",
       "  </thead>\n",
       "  <tbody>\n",
       "    <tr>\n",
       "      <th>0</th>\n",
       "      <td>581585</td>\n",
       "      <td>A</td>\n",
       "      <td>NaN</td>\n",
       "    </tr>\n",
       "    <tr>\n",
       "      <th>1</th>\n",
       "      <td>5723133</td>\n",
       "      <td>A</td>\n",
       "      <td>NaN</td>\n",
       "    </tr>\n",
       "    <tr>\n",
       "      <th>2</th>\n",
       "      <td>3276743</td>\n",
       "      <td>B</td>\n",
       "      <td>NaN</td>\n",
       "    </tr>\n",
       "    <tr>\n",
       "      <th>3</th>\n",
       "      <td>4238589</td>\n",
       "      <td>A</td>\n",
       "      <td>NaN</td>\n",
       "    </tr>\n",
       "    <tr>\n",
       "      <th>4</th>\n",
       "      <td>4475369</td>\n",
       "      <td>B</td>\n",
       "      <td>NaN</td>\n",
       "    </tr>\n",
       "  </tbody>\n",
       "</table>\n",
       "</div>"
      ],
      "text/plain": [
       "   student_id grp  rev\n",
       "0      581585   A  NaN\n",
       "1     5723133   A  NaN\n",
       "2     3276743   B  NaN\n",
       "3     4238589   A  NaN\n",
       "4     4475369   B  NaN"
      ]
     },
     "execution_count": 186,
     "metadata": {},
     "output_type": "execute_result"
    }
   ],
   "source": [
    "experiment_users_data.head()"
   ]
  },
  {
   "cell_type": "markdown",
   "metadata": {},
   "source": [
    "Проверка на сооответствие количества принявших участие в эксперементе пользователей в сравнении с `active_studs`"
   ]
  },
  {
   "cell_type": "code",
   "execution_count": 121,
   "metadata": {
    "scrolled": true
   },
   "outputs": [
    {
     "name": "stdout",
     "output_type": "stream",
     "text": [
      "Соответствует - 8341\n"
     ]
    }
   ],
   "source": [
    "if experiment_users_data.shape[0] == active_studs.shape[0]:\n",
    "    print(f'Соответствует - {active_studs.shape[0]}')\n",
    "else:\n",
    "    print(f'Не соответствует!')"
   ]
  },
  {
   "cell_type": "markdown",
   "metadata": {},
   "source": [
    "### 1.2. Формулировка гипотез"
   ]
  },
  {
   "cell_type": "markdown",
   "metadata": {},
   "source": [
    "**1.2.1. Выбор метрик**\n",
    "\n",
    "**Конверсия в покупку (оплату, CR):** отношение количества пользователей совершивших оплату к общему количеству пользователей. Позволит оценить, какую долю пользователей удалось привлечь к выполнению целевого действия.\n",
    "\n",
    "1. Оценка эффективности изменений:\n",
    "    - Конверсия позволяет оценить, насколько успешно новая механика оплаты влияет на желаемое действие пользователей. Если конверсия в группе A выше, чем в группе B (или наоборот), это может указывать на эффективность или неэффективность внесенных изменений.\n",
    "    \n",
    "    \n",
    "2. Изменение в пользовательском поведении:\n",
    "    - Высокая конверсия может свидетельствовать о том, что новая механика оплаты более привлекательна для пользователей, и они более склонны совершать целевое действие. Низкая конверсия, напротив, может указывать на проблемы или нежелательные изменения, которые отталкивают пользователей.\n",
    "    \n",
    "    \n",
    "3. Оценка воздействия на выручку:\n",
    "    - Высокая конверсия не всегда гарантирует высокую выручку, но она является важным фактором. Например, если конверсия высокая, но средний чек низкий, это может указывать на необходимость дополнительных исследований по повышению среднего чека.\n",
    "    \n",
    "    \n",
    "4. Принятие решений на основе данных:\n",
    "    - Конверсия предоставляет ясную и краткую метрику, на основе которой можно принимать решения. Она может быть использована для сравнения результатов в разных группах и определения того, стоит ли расширять новую механику оплаты на всех пользователей.\n",
    "    \n",
    "Таким образом, конверсия является важным индикатором успешности внедрения изменений в механику оплаты и может помочь в принятии обоснованных решений на основе данных.\n",
    "\n",
    "**Средний чек:** Рассчитать средний чек для тех студентов, у которых есть данные о выручке. Это позволит определить средний объем трат каждого пользователя, который совершил транзакцию.\n",
    "\n",
    "1. Оценка Финансового Влияния:\n",
    "    - Средний чек позволяет оценить, как изменения в механике оплаты влияют на средний объем трат каждого пользователя. Если ARPU увеличивается, это может быть положительным сигналом.\n",
    "    \n",
    "    \n",
    "2. Принятие Решений о Монетизации:\n",
    "    - Информация о среднем чеке полезна при принятии решений о монетизации и ценообразовании. Высокий ARPU может обеспечить дополнительные возможности для максимизации выручки.\n",
    "    \n",
    "Сочетание **CR** c **Средний чек** позволит оценить эффективность внесенных изменений в систему оплаты с учетом дохода на одного пользователя.\n",
    "\n",
    "**Примечание:**\n",
    "\n",
    "При наличии информации о времени, можно было бы учесть Retention (удержание) чтобы понять, сколько пользователей возвращаются и продолжают совершать транзакции."
   ]
  },
  {
   "cell_type": "markdown",
   "metadata": {},
   "source": [
    "**1.2.2. Расчет выбранных метрик**"
   ]
  },
  {
   "cell_type": "markdown",
   "metadata": {},
   "source": [
    "**Конверсия в покупку (CR)**"
   ]
  },
  {
   "cell_type": "markdown",
   "metadata": {},
   "source": [
    "Создадим дополниетльный столбец с указанием:\n",
    "- `0` - для `NaN` значений \n",
    "- `1` - при наличии транзакции в столбце **rev**."
   ]
  },
  {
   "cell_type": "code",
   "execution_count": 45,
   "metadata": {},
   "outputs": [],
   "source": [
    "# Создание столбца в зависимости от значения в столбце rev\n",
    "experiment_users_data['rev_bin'] = np.where(experiment_users_data['rev'].isna(), 0, 1)"
   ]
  },
  {
   "cell_type": "markdown",
   "metadata": {},
   "source": [
    "Сгруппирем данные по принадлежности к группам и транзакциям"
   ]
  },
  {
   "cell_type": "code",
   "execution_count": 46,
   "metadata": {},
   "outputs": [],
   "source": [
    "count_users = experiment_users_data.groupby(['grp', 'rev_bin'], as_index=False)\\\n",
    "                                   .agg({'student_id': 'count'})\\\n",
    "                                   .rename(columns={'student_id': 'count_users'})"
   ]
  },
  {
   "cell_type": "markdown",
   "metadata": {},
   "source": [
    "Оставим только данные с произведенной оплатой, т.е. `rev_bin = 1`"
   ]
  },
  {
   "cell_type": "code",
   "execution_count": 47,
   "metadata": {},
   "outputs": [],
   "source": [
    "count_paying_users = count_users[ count_users['rev_bin'] == 1 ].drop(columns={'rev_bin'})\\\n",
    "                                                               .rename(columns={'count_users': 'count_paying_users'})"
   ]
  },
  {
   "cell_type": "markdown",
   "metadata": {},
   "source": [
    "Количество пользователей в каждой группе"
   ]
  },
  {
   "cell_type": "code",
   "execution_count": 48,
   "metadata": {},
   "outputs": [],
   "source": [
    "A = experiment_users_data.grp.value_counts()[1]\n",
    "B = experiment_users_data.grp.value_counts()[0]"
   ]
  },
  {
   "cell_type": "markdown",
   "metadata": {},
   "source": [
    "Расчитаем конверсию в зависимости от принадлежности к группе"
   ]
  },
  {
   "cell_type": "code",
   "execution_count": 49,
   "metadata": {},
   "outputs": [],
   "source": [
    "count_paying_users['CR'] = count_paying_users.apply(lambda x: x['count_paying_users'] / A \n",
    "                                                    if        x['grp'] == 'A' \n",
    "                                                    else      x['count_paying_users'] / B, axis=1)"
   ]
  },
  {
   "cell_type": "markdown",
   "metadata": {},
   "source": [
    "Выведем результат округленный до 3 знаков после разделителя"
   ]
  },
  {
   "cell_type": "code",
   "execution_count": 50,
   "metadata": {},
   "outputs": [
    {
     "data": {
      "text/html": [
       "<div>\n",
       "<style scoped>\n",
       "    .dataframe tbody tr th:only-of-type {\n",
       "        vertical-align: middle;\n",
       "    }\n",
       "\n",
       "    .dataframe tbody tr th {\n",
       "        vertical-align: top;\n",
       "    }\n",
       "\n",
       "    .dataframe thead th {\n",
       "        text-align: right;\n",
       "    }\n",
       "</style>\n",
       "<table border=\"1\" class=\"dataframe\">\n",
       "  <thead>\n",
       "    <tr style=\"text-align: right;\">\n",
       "      <th></th>\n",
       "      <th>grp</th>\n",
       "      <th>count_paying_users</th>\n",
       "      <th>CR</th>\n",
       "    </tr>\n",
       "  </thead>\n",
       "  <tbody>\n",
       "    <tr>\n",
       "      <th>1</th>\n",
       "      <td>A</td>\n",
       "      <td>78</td>\n",
       "      <td>0.051</td>\n",
       "    </tr>\n",
       "    <tr>\n",
       "      <th>3</th>\n",
       "      <td>B</td>\n",
       "      <td>314</td>\n",
       "      <td>0.046</td>\n",
       "    </tr>\n",
       "  </tbody>\n",
       "</table>\n",
       "</div>"
      ],
      "text/plain": [
       "  grp  count_paying_users     CR\n",
       "1   A                  78  0.051\n",
       "3   B                 314  0.046"
      ]
     },
     "execution_count": 50,
     "metadata": {},
     "output_type": "execute_result"
    }
   ],
   "source": [
    "count_paying_users.CR = round(count_paying_users.CR, 3)\n",
    "count_paying_users"
   ]
  },
  {
   "cell_type": "markdown",
   "metadata": {},
   "source": [
    "Визуализирем результат расчета конверсии для пользователей выполневших покупку с рапсределением по группам"
   ]
  },
  {
   "cell_type": "code",
   "execution_count": 51,
   "metadata": {},
   "outputs": [
    {
     "data": {
      "image/png": "[encoded data removed]",
      "text/plain": [
       "<Figure size 864x432 with 1 Axes>"
      ]
     },
     "metadata": {
      "needs_background": "light"
     },
     "output_type": "display_data"
    }
   ],
   "source": [
    "create_bar_plot_with_customization(data=count_paying_users, \n",
    "                                   x_column='grp', \n",
    "                                   y_column='CR', \n",
    "                                   title='Размер конверсии в группах', \n",
    "                                   x_label='Группы', \n",
    "                                   y_label='Конверсия',\n",
    "                                   h=0.001,\n",
    "                                   legend_1 = 'А – контроль',\n",
    "                                   legend_2 = 'B – целевая',\n",
    "                                   decimal_places=3\n",
    "                                  )"
   ]
  },
  {
   "cell_type": "markdown",
   "metadata": {},
   "source": [
    "**Средний чек**"
   ]
  },
  {
   "cell_type": "markdown",
   "metadata": {},
   "source": [
    "Сгруппирем данные по принадлежности к группам и транзакциям"
   ]
  },
  {
   "cell_type": "code",
   "execution_count": 52,
   "metadata": {},
   "outputs": [],
   "source": [
    "mean_check = experiment_users_data.groupby(['grp', 'rev_bin'], as_index=False)\\\n",
    "                                  .agg({'rev': 'mean'})\\\n",
    "                                  .rename(columns={'rev': 'mean_check'})\\\n",
    "                                  .round(1)"
   ]
  },
  {
   "cell_type": "markdown",
   "metadata": {},
   "source": [
    "Оставим только данные с произведенной оплатой, т.е. `rev_bin = 1`"
   ]
  },
  {
   "cell_type": "code",
   "execution_count": 53,
   "metadata": {},
   "outputs": [],
   "source": [
    "mean_check = mean_check[ mean_check['rev_bin'] == 1 ].drop(columns={'rev_bin'})"
   ]
  },
  {
   "cell_type": "markdown",
   "metadata": {},
   "source": [
    "Выведем результат округленный до 1 знака после разделителя"
   ]
  },
  {
   "cell_type": "code",
   "execution_count": 54,
   "metadata": {},
   "outputs": [
    {
     "data": {
      "text/html": [
       "<div>\n",
       "<style scoped>\n",
       "    .dataframe tbody tr th:only-of-type {\n",
       "        vertical-align: middle;\n",
       "    }\n",
       "\n",
       "    .dataframe tbody tr th {\n",
       "        vertical-align: top;\n",
       "    }\n",
       "\n",
       "    .dataframe thead th {\n",
       "        text-align: right;\n",
       "    }\n",
       "</style>\n",
       "<table border=\"1\" class=\"dataframe\">\n",
       "  <thead>\n",
       "    <tr style=\"text-align: right;\">\n",
       "      <th></th>\n",
       "      <th>grp</th>\n",
       "      <th>mean_check</th>\n",
       "    </tr>\n",
       "  </thead>\n",
       "  <tbody>\n",
       "    <tr>\n",
       "      <th>1</th>\n",
       "      <td>A</td>\n",
       "      <td>933.6</td>\n",
       "    </tr>\n",
       "    <tr>\n",
       "      <th>3</th>\n",
       "      <td>B</td>\n",
       "      <td>1257.9</td>\n",
       "    </tr>\n",
       "  </tbody>\n",
       "</table>\n",
       "</div>"
      ],
      "text/plain": [
       "  grp  mean_check\n",
       "1   A       933.6\n",
       "3   B      1257.9"
      ]
     },
     "execution_count": 54,
     "metadata": {},
     "output_type": "execute_result"
    }
   ],
   "source": [
    "mean_check"
   ]
  },
  {
   "cell_type": "markdown",
   "metadata": {},
   "source": [
    "Визуализирем результат расчета среднего чека для пользователей выполневших покупку с рапсределением по группам"
   ]
  },
  {
   "cell_type": "code",
   "execution_count": 55,
   "metadata": {},
   "outputs": [
    {
     "data": {
      "image/png": "[encoded data removed]",
      "text/plain": [
       "<Figure size 864x432 with 1 Axes>"
      ]
     },
     "metadata": {
      "needs_background": "light"
     },
     "output_type": "display_data"
    }
   ],
   "source": [
    "create_bar_plot_with_customization(data=experiment_users_data, \n",
    "                                   x_column='grp', \n",
    "                                   y_column='rev', \n",
    "                                   title='Средний чек в группах', \n",
    "                                   x_label='Группы', \n",
    "                                   y_label='Срдний чек',\n",
    "                                   h=10,\n",
    "                                   legend_1 = 'А – контроль',\n",
    "                                   legend_2 = 'B – целевая',\n",
    "                                   decimal_places=1\n",
    "                                  )"
   ]
  },
  {
   "cell_type": "markdown",
   "metadata": {},
   "source": [
    "### 1.3. Проверка гипотез"
   ]
  },
  {
   "cell_type": "markdown",
   "metadata": {},
   "source": [
    "**1.3.1. Гипотезы**"
   ]
  },
  {
   "cell_type": "markdown",
   "metadata": {},
   "source": [
    "**Конверсия в покупку**\n",
    "\n",
    "**H0:** Новая механика оплаты  курсов не влияет на конверсию (CR)\n",
    "\n",
    "**H1:** Новая механика оплаты  курсов оказывает статистически значимое влияние на конверсию (CR)"
   ]
  },
  {
   "cell_type": "markdown",
   "metadata": {},
   "source": [
    "**Средний чек**\n",
    "\n",
    "**H0:** Средний чек контрольной (А) и целивой (В) групп не различается\n",
    "\n",
    "**H1:** Средний чек контрольной (А) и целивой (В) групп обладает статистически значимыми различиями"
   ]
  },
  {
   "cell_type": "markdown",
   "metadata": {},
   "source": [
    "**1.3.2. Конверсия в покупку**"
   ]
  },
  {
   "cell_type": "markdown",
   "metadata": {},
   "source": [
    "**Размер выборки**"
   ]
  },
  {
   "cell_type": "markdown",
   "metadata": {},
   "source": [
    "Сгруппирем данные по А и В. Оценим размер групп."
   ]
  },
  {
   "cell_type": "code",
   "execution_count": 56,
   "metadata": {},
   "outputs": [],
   "source": [
    "count_experiment_users = experiment_users_data.grp.value_counts()\\\n",
    "                                              .to_frame()\\\n",
    "                                              .reset_index()\\\n",
    "                                              .rename(columns={'index': 'grp', \n",
    "                                                                'grp': 'group_size'})\\\n",
    "                                              .sort_values(by='group_size', ascending=True)"
   ]
  },
  {
   "cell_type": "markdown",
   "metadata": {},
   "source": [
    "Визуализирем распределение наблюдений по группам А и В."
   ]
  },
  {
   "cell_type": "code",
   "execution_count": 57,
   "metadata": {},
   "outputs": [
    {
     "data": {
      "image/png": "[encoded data removed]",
      "text/plain": [
       "<Figure size 864x432 with 1 Axes>"
      ]
     },
     "metadata": {
      "needs_background": "light"
     },
     "output_type": "display_data"
    }
   ],
   "source": [
    "create_bar_plot_with_customization(data=count_experiment_users, \n",
    "                                   x_column='grp', \n",
    "                                   y_column='group_size', \n",
    "                                   title='Распределение наблюдений по группам', \n",
    "                                   x_label='Группы', \n",
    "                                   y_label='Количество наблюдений',\n",
    "                                   h=50,\n",
    "                                   legend_1 = 'А – контроль',\n",
    "                                   legend_2 = 'B – целевая',\n",
    "                                   decimal_places=1\n",
    "                                  )"
   ]
  },
  {
   "cell_type": "markdown",
   "metadata": {},
   "source": [
    "**Тестирование гипотез**"
   ]
  },
  {
   "cell_type": "markdown",
   "metadata": {},
   "source": [
    "В качестве стат. теста выбран **Критерий хи-квадрат**."
   ]
  },
  {
   "cell_type": "markdown",
   "metadata": {},
   "source": [
    "Обоснование:\n",
    "- Анализ таблицы сопряженности любого размера, где значения ожидаемых и наблюдаемых частот в каждой ячейке больше 10.\n",
    "- Тип метрики относиться к пропорциям.\n",
    "- Независимость отдельных наблюдений **[i]** \n",
    "\n",
    "**i** - Так как в исходных данных отсутсвовали дубликаты пользователей, предположим что была посчитана средняя стоимость заказа одного пользователя, которая в последствие сравнивалась между группами. В результате удалось избежать зависимости стоимости заказов от пользователей. Технически получается, что мы рассматриваем не совсем \"Средний чек\", примем допущение и оставим условное название."
   ]
  },
  {
   "cell_type": "code",
   "execution_count": 58,
   "metadata": {},
   "outputs": [],
   "source": [
    "expected, observed, stats = pg.chi2_independence(experiment_users_data, \n",
    "                                                 x='grp',\n",
    "                                                 y='rev_bin')"
   ]
  },
  {
   "cell_type": "markdown",
   "metadata": {},
   "source": [
    "Ожидаемые значения таблицы сопряжения:"
   ]
  },
  {
   "cell_type": "code",
   "execution_count": 59,
   "metadata": {},
   "outputs": [
    {
     "data": {
      "text/html": [
       "<div>\n",
       "<style scoped>\n",
       "    .dataframe tbody tr th:only-of-type {\n",
       "        vertical-align: middle;\n",
       "    }\n",
       "\n",
       "    .dataframe tbody tr th {\n",
       "        vertical-align: top;\n",
       "    }\n",
       "\n",
       "    .dataframe thead th {\n",
       "        text-align: right;\n",
       "    }\n",
       "</style>\n",
       "<table border=\"1\" class=\"dataframe\">\n",
       "  <thead>\n",
       "    <tr style=\"text-align: right;\">\n",
       "      <th>rev_bin</th>\n",
       "      <th>0</th>\n",
       "      <th>1</th>\n",
       "    </tr>\n",
       "    <tr>\n",
       "      <th>grp</th>\n",
       "      <th></th>\n",
       "      <th></th>\n",
       "    </tr>\n",
       "  </thead>\n",
       "  <tbody>\n",
       "    <tr>\n",
       "      <th>A</th>\n",
       "      <td>1465.718979</td>\n",
       "      <td>72.281021</td>\n",
       "    </tr>\n",
       "    <tr>\n",
       "      <th>B</th>\n",
       "      <td>6483.281021</td>\n",
       "      <td>319.718979</td>\n",
       "    </tr>\n",
       "  </tbody>\n",
       "</table>\n",
       "</div>"
      ],
      "text/plain": [
       "rev_bin            0           1\n",
       "grp                             \n",
       "A        1465.718979   72.281021\n",
       "B        6483.281021  319.718979"
      ]
     },
     "execution_count": 59,
     "metadata": {},
     "output_type": "execute_result"
    }
   ],
   "source": [
    "expected"
   ]
  },
  {
   "cell_type": "markdown",
   "metadata": {},
   "source": [
    "Фактические значения таблицы сопряжения:"
   ]
  },
  {
   "cell_type": "code",
   "execution_count": 60,
   "metadata": {},
   "outputs": [
    {
     "data": {
      "text/html": [
       "<div>\n",
       "<style scoped>\n",
       "    .dataframe tbody tr th:only-of-type {\n",
       "        vertical-align: middle;\n",
       "    }\n",
       "\n",
       "    .dataframe tbody tr th {\n",
       "        vertical-align: top;\n",
       "    }\n",
       "\n",
       "    .dataframe thead th {\n",
       "        text-align: right;\n",
       "    }\n",
       "</style>\n",
       "<table border=\"1\" class=\"dataframe\">\n",
       "  <thead>\n",
       "    <tr style=\"text-align: right;\">\n",
       "      <th>rev_bin</th>\n",
       "      <th>0</th>\n",
       "      <th>1</th>\n",
       "    </tr>\n",
       "    <tr>\n",
       "      <th>grp</th>\n",
       "      <th></th>\n",
       "      <th></th>\n",
       "    </tr>\n",
       "  </thead>\n",
       "  <tbody>\n",
       "    <tr>\n",
       "      <th>A</th>\n",
       "      <td>1460.5</td>\n",
       "      <td>77.5</td>\n",
       "    </tr>\n",
       "    <tr>\n",
       "      <th>B</th>\n",
       "      <td>6488.5</td>\n",
       "      <td>314.5</td>\n",
       "    </tr>\n",
       "  </tbody>\n",
       "</table>\n",
       "</div>"
      ],
      "text/plain": [
       "rev_bin       0      1\n",
       "grp                   \n",
       "A        1460.5   77.5\n",
       "B        6488.5  314.5"
      ]
     },
     "execution_count": 60,
     "metadata": {},
     "output_type": "execute_result"
    }
   ],
   "source": [
    "observed"
   ]
  },
  {
   "cell_type": "markdown",
   "metadata": {},
   "source": [
    "Результата применения **Критерий хи-квадрат**."
   ]
  },
  {
   "cell_type": "code",
   "execution_count": 61,
   "metadata": {},
   "outputs": [
    {
     "data": {
      "text/html": [
       "<div>\n",
       "<style scoped>\n",
       "    .dataframe tbody tr th:only-of-type {\n",
       "        vertical-align: middle;\n",
       "    }\n",
       "\n",
       "    .dataframe tbody tr th {\n",
       "        vertical-align: top;\n",
       "    }\n",
       "\n",
       "    .dataframe thead th {\n",
       "        text-align: right;\n",
       "    }\n",
       "</style>\n",
       "<table border=\"1\" class=\"dataframe\">\n",
       "  <thead>\n",
       "    <tr style=\"text-align: right;\">\n",
       "      <th></th>\n",
       "      <th>test</th>\n",
       "      <th>lambda</th>\n",
       "      <th>chi2</th>\n",
       "      <th>dof</th>\n",
       "      <th>pval</th>\n",
       "      <th>cramer</th>\n",
       "      <th>power</th>\n",
       "    </tr>\n",
       "  </thead>\n",
       "  <tbody>\n",
       "    <tr>\n",
       "      <th>0</th>\n",
       "      <td>pearson</td>\n",
       "      <td>1.000000</td>\n",
       "      <td>0.484808</td>\n",
       "      <td>1.0</td>\n",
       "      <td>0.486252</td>\n",
       "      <td>0.007624</td>\n",
       "      <td>0.107123</td>\n",
       "    </tr>\n",
       "    <tr>\n",
       "      <th>1</th>\n",
       "      <td>cressie-read</td>\n",
       "      <td>0.666667</td>\n",
       "      <td>0.482018</td>\n",
       "      <td>1.0</td>\n",
       "      <td>0.487510</td>\n",
       "      <td>0.007602</td>\n",
       "      <td>0.106787</td>\n",
       "    </tr>\n",
       "    <tr>\n",
       "      <th>2</th>\n",
       "      <td>log-likelihood</td>\n",
       "      <td>0.000000</td>\n",
       "      <td>0.476541</td>\n",
       "      <td>1.0</td>\n",
       "      <td>0.489993</td>\n",
       "      <td>0.007559</td>\n",
       "      <td>0.106127</td>\n",
       "    </tr>\n",
       "    <tr>\n",
       "      <th>3</th>\n",
       "      <td>freeman-tukey</td>\n",
       "      <td>-0.500000</td>\n",
       "      <td>0.472522</td>\n",
       "      <td>1.0</td>\n",
       "      <td>0.491829</td>\n",
       "      <td>0.007527</td>\n",
       "      <td>0.105643</td>\n",
       "    </tr>\n",
       "    <tr>\n",
       "      <th>4</th>\n",
       "      <td>mod-log-likelihood</td>\n",
       "      <td>-1.000000</td>\n",
       "      <td>0.468578</td>\n",
       "      <td>1.0</td>\n",
       "      <td>0.493642</td>\n",
       "      <td>0.007495</td>\n",
       "      <td>0.105168</td>\n",
       "    </tr>\n",
       "    <tr>\n",
       "      <th>5</th>\n",
       "      <td>neyman</td>\n",
       "      <td>-2.000000</td>\n",
       "      <td>0.460909</td>\n",
       "      <td>1.0</td>\n",
       "      <td>0.497200</td>\n",
       "      <td>0.007434</td>\n",
       "      <td>0.104245</td>\n",
       "    </tr>\n",
       "  </tbody>\n",
       "</table>\n",
       "</div>"
      ],
      "text/plain": [
       "                 test    lambda      chi2  dof      pval    cramer     power\n",
       "0             pearson  1.000000  0.484808  1.0  0.486252  0.007624  0.107123\n",
       "1        cressie-read  0.666667  0.482018  1.0  0.487510  0.007602  0.106787\n",
       "2      log-likelihood  0.000000  0.476541  1.0  0.489993  0.007559  0.106127\n",
       "3       freeman-tukey -0.500000  0.472522  1.0  0.491829  0.007527  0.105643\n",
       "4  mod-log-likelihood -1.000000  0.468578  1.0  0.493642  0.007495  0.105168\n",
       "5              neyman -2.000000  0.460909  1.0  0.497200  0.007434  0.104245"
      ]
     },
     "execution_count": 61,
     "metadata": {},
     "output_type": "execute_result"
    }
   ],
   "source": [
    "stats"
   ]
  },
  {
   "cell_type": "markdown",
   "metadata": {},
   "source": [
    "**Вывод по тесту Критерий хи-квадрат**\n",
    "\n",
    "- Ни один из выполненных тестов хи-квадрат не показал статистически значимого влияния новой механики оплаты курсов на конверсию\\\n",
    "(pval > 0.05).\n",
    "- Следовательно не достаточно оснований, чтобы отклонить нулевую гипотизу (Н0).\n",
    "- Настоящая выборка **не позволяет** задетектированить статистически значимое влияние новой механики оплаты на изменение конверсии и принять (H1).\n"
   ]
  },
  {
   "cell_type": "markdown",
   "metadata": {},
   "source": [
    "**Размер эффекта**"
   ]
  },
  {
   "cell_type": "markdown",
   "metadata": {},
   "source": [
    "Проверим дополнительно размер возможного детектиремого эффекта при данной выборке.\n",
    "\n",
    "При условии:\n",
    "- мощность теста 0.8\n",
    "- уровень альфа 0.05"
   ]
  },
  {
   "cell_type": "markdown",
   "metadata": {},
   "source": [
    "Вычисление размер эффекта Коэна Д. - **d**\n",
    "- Задан размер выборки - **n** \n",
    "- Мощность теста - **power**\n",
    "- Уровень для контроля за долей ложно-положительных срабатываний - **alpha** "
   ]
  },
  {
   "cell_type": "markdown",
   "metadata": {},
   "source": [
    "Переменные с информацией о размере групп А и В созданы ранее при расчете конверсии"
   ]
  },
  {
   "cell_type": "markdown",
   "metadata": {},
   "source": [
    "Оценим размер возможного детектиремого эффектеа при данной выборке"
   ]
  },
  {
   "cell_type": "markdown",
   "metadata": {},
   "source": [
    "Размер эффекта Критерий хи-квадрат"
   ]
  },
  {
   "cell_type": "code",
   "execution_count": 64,
   "metadata": {
    "scrolled": true
   },
   "outputs": [
    {
     "name": "stdout",
     "output_type": "stream",
     "text": [
      "w: 0.0307\n"
     ]
    }
   ],
   "source": [
    "print('w: %.4f' % power_chi2(dof=1, n=A+B, power=0.80, alpha=0.05))"
   ]
  },
  {
   "cell_type": "markdown",
   "metadata": {},
   "source": [
    "Размер эффекта T-test"
   ]
  },
  {
   "cell_type": "code",
   "execution_count": 65,
   "metadata": {},
   "outputs": [
    {
     "name": "stdout",
     "output_type": "stream",
     "text": [
      "d: 0.0791\n"
     ]
    }
   ],
   "source": [
    "print('d: %.4f' % power_ttest2n(nx=A, ny=B, power=0.80, alpha=0.05))"
   ]
  },
  {
   "cell_type": "markdown",
   "metadata": {},
   "source": [
    "**Вывод по пункту 1.3.2:**\n",
    "\n",
    "- Ни один из выполненных тестов хи-квадрат не показал статистически значимого влияния новой механики оплаты курсов на конверсию\\\n",
    "(pval > 0.05).\n",
    "- Следовательно не достаточно оснований, чтобы отклонить нулевую гипотизу (Н0).\n",
    "- Настоящая выборка **не позволяет** задетектированить статистически значимое влияние новой механики оплаты на изменение конверсии и принять (H1).\n",
    "- Возможно искомый размер эффекта меньше значений которые можно задетектировать при данной выборке."
   ]
  },
  {
   "cell_type": "markdown",
   "metadata": {},
   "source": [
    "**1.3.3. Средний чек**"
   ]
  },
  {
   "cell_type": "markdown",
   "metadata": {},
   "source": [
    "**Средний чек**\n",
    "\n",
    "**H0:** Средний чек контрольной (А) и целивой (В) групп не различается\n",
    "\n",
    "**H1:** Средний чек контрольной (А) и целивой (В) групп обладает статистически значимыми различиями"
   ]
  },
  {
   "cell_type": "markdown",
   "metadata": {},
   "source": [
    "Для оценки изменения среднего чека нам достаточно только пользователей, которые выполненли покупку."
   ]
  },
  {
   "cell_type": "code",
   "execution_count": 66,
   "metadata": {},
   "outputs": [],
   "source": [
    "experiment_users_data_notna_rev = experiment_users_data[ experiment_users_data.rev.notna() == True ]"
   ]
  },
  {
   "cell_type": "markdown",
   "metadata": {},
   "source": [
    "**Проверка на соответствие нормальному закону распределения**"
   ]
  },
  {
   "cell_type": "markdown",
   "metadata": {},
   "source": [
    "Рассмотрим распределение стоимости заказов"
   ]
  },
  {
   "cell_type": "code",
   "execution_count": 67,
   "metadata": {},
   "outputs": [
    {
     "data": {
      "text/plain": [
       "Text(3.6750000000000114, 0.5, 'Частота')"
      ]
     },
     "execution_count": 67,
     "metadata": {},
     "output_type": "execute_result"
    },
    {
     "data": {
      "image/png": "[encoded data removed]",
      "text/plain": [
       "<Figure size 1152x288 with 1 Axes>"
      ]
     },
     "metadata": {
      "needs_background": "light"
     },
     "output_type": "display_data"
    }
   ],
   "source": [
    "colors = {\"0\": \"gray\", \"1\": \"Orange\"}\n",
    "sns.displot(data=experiment_users_data_notna_rev, x=\"rev\", palette=colors.values(), height=4, aspect=4)\n",
    "plt.title('Распределение стоимости заказов')\n",
    "plt.xlabel('Средний чек')\n",
    "plt.ylabel('Частота')"
   ]
  },
  {
   "cell_type": "markdown",
   "metadata": {},
   "source": [
    "Посмотрим на распределение стоиомсти заказов по группам."
   ]
  },
  {
   "cell_type": "code",
   "execution_count": 68,
   "metadata": {},
   "outputs": [
    {
     "data": {
      "text/plain": [
       "Text(4.928312174479181, 0.5, 'Частота')"
      ]
     },
     "execution_count": 68,
     "metadata": {},
     "output_type": "execute_result"
    },
    {
     "data": {
      "image/png": "[encoded data removed]",
      "text/plain": [
       "<Figure size 1194.88x288 with 1 Axes>"
      ]
     },
     "metadata": {
      "needs_background": "light"
     },
     "output_type": "display_data"
    }
   ],
   "source": [
    "colors = {\"0\": \"gray\", \"1\": \"Orange\"}\n",
    "sns.displot(data=experiment_users_data_notna_rev, x=\"rev\", hue=\"grp\", palette=colors.values(), height=4, aspect=4)\n",
    "plt.title('Распределение стоимости заказов по группам')\n",
    "plt.xlabel('Средний чек')\n",
    "plt.ylabel('Частота')"
   ]
  },
  {
   "cell_type": "markdown",
   "metadata": {},
   "source": [
    "**Violinplot**"
   ]
  },
  {
   "cell_type": "code",
   "execution_count": 69,
   "metadata": {},
   "outputs": [
    {
     "data": {
      "text/plain": [
       "<matplotlib.axes._subplots.AxesSubplot at 0x7fb2b60d5b70>"
      ]
     },
     "execution_count": 69,
     "metadata": {},
     "output_type": "execute_result"
    },
    {
     "data": {
      "image/png": "[encoded data removed]",
      "text/plain": [
       "<Figure size 1152x576 with 1 Axes>"
      ]
     },
     "metadata": {
      "needs_background": "light"
     },
     "output_type": "display_data"
    }
   ],
   "source": [
    "plt.figure(figsize=(16, 8))\n",
    "colors = {\"0\": \"gray\", \"1\": \"Orange\"}\n",
    "sns.violinplot(x='grp', y='rev', data=experiment_users_data_notna_rev, palette=colors.values())"
   ]
  },
  {
   "cell_type": "markdown",
   "metadata": {},
   "source": [
    "**Q-Q plot**"
   ]
  },
  {
   "cell_type": "code",
   "execution_count": 70,
   "metadata": {},
   "outputs": [],
   "source": [
    "group_0 = experiment_users_data_notna_rev.query('grp in \"A\"').rev\n",
    "group_1 = experiment_users_data_notna_rev.query('grp in \"B\"').rev"
   ]
  },
  {
   "cell_type": "code",
   "execution_count": 71,
   "metadata": {},
   "outputs": [
    {
     "data": {
      "text/plain": [
       "Text(0, 0.5, 'Наблюдаемые квантили')"
      ]
     },
     "execution_count": 71,
     "metadata": {},
     "output_type": "execute_result"
    },
    {
     "data": {
      "image/png": "[encoded data removed]",
      "text/plain": [
       "<Figure size 1152x288 with 2 Axes>"
      ]
     },
     "metadata": {
      "needs_background": "light"
     },
     "output_type": "display_data"
    }
   ],
   "source": [
    "# Создаем фигуру с 1 строкой и 2 столбцами\n",
    "fig, axes = plt.subplots(1, 2, figsize=(16, 4))  # Измените размер по вашему усмотрению\n",
    "\n",
    "# Строим квантиль-квантиль графики на каждой из подсеток\n",
    "pg.qqplot(group_0, dist='norm', ax=axes[0])  # График 1 в первой подсетке\n",
    "pg.qqplot(group_1, dist='norm', ax=axes[1])  # График 2 во второй подсетке\n",
    "\n",
    "# Настройте заголовки и метки осей, если это необходимо\n",
    "axes[0].set_title('Группа А')\n",
    "axes[1].set_title('Группа В')\n",
    "axes[0].set_xlabel('Теоретические квантили')\n",
    "axes[1].set_xlabel('Теоретические квантили')\n",
    "axes[0].set_ylabel('Наблюдаемые квантили')\n",
    "axes[1].set_ylabel('Наблюдаемые квантили')"
   ]
  },
  {
   "cell_type": "markdown",
   "metadata": {},
   "source": [
    "**Тест Шапиро-Уилка**"
   ]
  },
  {
   "cell_type": "code",
   "execution_count": 72,
   "metadata": {},
   "outputs": [
    {
     "data": {
      "text/html": [
       "<div>\n",
       "<style scoped>\n",
       "    .dataframe tbody tr th:only-of-type {\n",
       "        vertical-align: middle;\n",
       "    }\n",
       "\n",
       "    .dataframe tbody tr th {\n",
       "        vertical-align: top;\n",
       "    }\n",
       "\n",
       "    .dataframe thead th {\n",
       "        text-align: right;\n",
       "    }\n",
       "</style>\n",
       "<table border=\"1\" class=\"dataframe\">\n",
       "  <thead>\n",
       "    <tr style=\"text-align: right;\">\n",
       "      <th></th>\n",
       "      <th>W</th>\n",
       "      <th>pval</th>\n",
       "      <th>normal</th>\n",
       "    </tr>\n",
       "  </thead>\n",
       "  <tbody>\n",
       "    <tr>\n",
       "      <th>A</th>\n",
       "      <td>0.735324</td>\n",
       "      <td>1.498682e-10</td>\n",
       "      <td>False</td>\n",
       "    </tr>\n",
       "    <tr>\n",
       "      <th>B</th>\n",
       "      <td>0.854724</td>\n",
       "      <td>1.543702e-16</td>\n",
       "      <td>False</td>\n",
       "    </tr>\n",
       "  </tbody>\n",
       "</table>\n",
       "</div>"
      ],
      "text/plain": [
       "          W          pval  normal\n",
       "A  0.735324  1.498682e-10   False\n",
       "B  0.854724  1.543702e-16   False"
      ]
     },
     "execution_count": 72,
     "metadata": {},
     "output_type": "execute_result"
    }
   ],
   "source": [
    "# method Shapiro-Wilk test(default)\n",
    "pg.normality(experiment_users_data_notna_rev, dv='rev', group='grp')"
   ]
  },
  {
   "cell_type": "markdown",
   "metadata": {},
   "source": [
    "**Вывод нормальности распределения**\n",
    "\n",
    "По результатам оценки, распределение стоимости заказов по отдельному пользователю для старого и нового механизма оплаты отлично от нормального. Кроме того, согласно графику `violinplot` форма распределений групп А и В отличается. Наблюдается смещение тенденции в сторону увеличения стоимости заказа."
   ]
  },
  {
   "cell_type": "markdown",
   "metadata": {},
   "source": [
    "**Проверка гомоскедастичности (равенства дисперсий)**"
   ]
  },
  {
   "cell_type": "code",
   "execution_count": 73,
   "metadata": {},
   "outputs": [],
   "source": [
    "homoscedasticity_test = pg.homoscedasticity(experiment_users_data_notna_rev, dv='rev', group='grp')"
   ]
  },
  {
   "cell_type": "code",
   "execution_count": 74,
   "metadata": {},
   "outputs": [
    {
     "data": {
      "text/html": [
       "<div>\n",
       "<style scoped>\n",
       "    .dataframe tbody tr th:only-of-type {\n",
       "        vertical-align: middle;\n",
       "    }\n",
       "\n",
       "    .dataframe tbody tr th {\n",
       "        vertical-align: top;\n",
       "    }\n",
       "\n",
       "    .dataframe thead th {\n",
       "        text-align: right;\n",
       "    }\n",
       "</style>\n",
       "<table border=\"1\" class=\"dataframe\">\n",
       "  <thead>\n",
       "    <tr style=\"text-align: right;\">\n",
       "      <th></th>\n",
       "      <th>W</th>\n",
       "      <th>pval</th>\n",
       "      <th>equal_var</th>\n",
       "    </tr>\n",
       "  </thead>\n",
       "  <tbody>\n",
       "    <tr>\n",
       "      <th>levene</th>\n",
       "      <td>3.075682</td>\n",
       "      <td>0.080257</td>\n",
       "      <td>True</td>\n",
       "    </tr>\n",
       "  </tbody>\n",
       "</table>\n",
       "</div>"
      ],
      "text/plain": [
       "               W      pval  equal_var\n",
       "levene  3.075682  0.080257       True"
      ]
     },
     "execution_count": 74,
     "metadata": {},
     "output_type": "execute_result"
    }
   ],
   "source": [
    "homoscedasticity_test"
   ]
  },
  {
   "cell_type": "markdown",
   "metadata": {},
   "source": [
    "**Вывод о равенстве дисперсий**\n",
    "\n",
    "pval > 0.05, не достаточно оснований отклонить нулевую гипотезу о равенстве дисперсий между группами."
   ]
  },
  {
   "cell_type": "markdown",
   "metadata": {},
   "source": [
    "**Выбор метода для проверки гипотезы**"
   ]
  },
  {
   "cell_type": "markdown",
   "metadata": {},
   "source": [
    "Поскольку распределение наблюдений в группах не прошли проверку на соответствие нормальному, форма распределений в группах отличается, принято в качестве метода проверки гипотезы использовать бутстрап на основе библиотеки `pingouin`, а точнее разновидность `plot_shift`."
   ]
  },
  {
   "cell_type": "code",
   "execution_count": 75,
   "metadata": {},
   "outputs": [],
   "source": [
    "# Начиная с версии NumPy 19.0, необходимо указывать dtype=object при создании массива из \"неровных\" последовательностей.\n",
    "import warnings\n",
    "warnings.filterwarnings(\"ignore\", category=np.VisibleDeprecationWarning)"
   ]
  },
  {
   "cell_type": "markdown",
   "metadata": {},
   "source": [
    "Вывод графика сдвига квантильного распределения"
   ]
  },
  {
   "cell_type": "code",
   "execution_count": 76,
   "metadata": {},
   "outputs": [
    {
     "data": {
      "image/png": "[encoded data removed]",
      "text/plain": [
       "<Figure size 576x360 with 2 Axes>"
      ]
     },
     "metadata": {
      "needs_background": "light"
     },
     "output_type": "display_data"
    }
   ],
   "source": [
    "fig = pg.plot_shift(experiment_users_data_notna_rev.query('grp in \"A\"').rev,\n",
    "                    experiment_users_data_notna_rev.query('grp in \"B\"').rev,\n",
    "                    paired=False,\n",
    "                    n_boot=10000, show_median=True, seed=456,\n",
    "                    violin=True)\n",
    "fig.axes[0].set_xlabel(\"Группы\")\n",
    "fig.axes[0].set_ylabel(\"Группы\", size=15)\n",
    "fig.axes[0].set_title(\"Изменение Квантильного распределения между группами\", size=15)\n",
    "fig.axes[1].set_xlabel(\"Квантили стоимости заказа\", size=12)\n",
    "plt.tight_layout()"
   ]
  },
  {
   "cell_type": "markdown",
   "metadata": {},
   "source": [
    "**Вывод по пункту 1.3.3:**\n",
    "- Последовательность процентилей для вычисления, по умолчанию установлено значение [10, 20, 30, 40, 50, 60, 70, 80, 90].\n",
    "- Красные точки означают статистически значимые различия при изменении стоимости заказа. Наблюдается смещение кванитлей в сторону увеличения стоимости заказа, как следствие увеличения среднего чека.\n",
    "- В гпуппе X(A) 5 красных точек соедененны линиями с 4 красными точками группе Y(B). Уменьшение красных точек в группе Y свидетельствет о изменении разброса значений.\n",
    "- Наличие статистически значемых измененией в размере чеков позволяет утверджать, что введение нового механизма оплаты повлияло на среджний чек, принимаем H1."
   ]
  },
  {
   "cell_type": "markdown",
   "metadata": {},
   "source": [
    "## Заключение"
   ]
  },
  {
   "cell_type": "markdown",
   "metadata": {},
   "source": [
    "**Конверсия по пункту 1.3.2:**\n",
    "\n",
    "- Ни один из выполненных тестов хи-квадрат не показал статистически значимого влияния новой механики оплаты курсов на конверсию\\\n",
    "(pval > 0.05).\n",
    "- Следовательно не достаточно оснований, чтобы отклонить нулевую гипотизу (Н0).\n",
    "- Настоящая выборка **не позволяет** задетектированить статистически значимое влияние новой механики оплаты на изменение конверсии и принять (H1).\n",
    "- Возможно искомый размер эффекта меньше значений которые можно задетектировать при данной выборке."
   ]
  },
  {
   "cell_type": "markdown",
   "metadata": {},
   "source": [
    "**Средний чек по пункту 1.3.3:**\n",
    "- Последовательность процентилей для вычисления, по умолчанию установлено значение [10, 20, 30, 40, 50, 60, 70, 80, 90].\n",
    "- Красные точки означают статистически значимые различия при изменении стоимости заказа. Наблюдается смещение кванитлей в сторону увеличения стоимости заказа, как следствие увеличения среднего(медианного) чека.\n",
    "- В гпуппе X(A) 5 красных точек соедененны линиями с 4 красными точками группе Y(B). Уменьшение красныех точек в группе Y свидетельствет о изменении разброса значений.\n",
    "- Следовательно достаточно оснований утверджать, что введение нового механизма оплаты повлияло на среджний чек, принимаем H1."
   ]
  },
  {
   "cell_type": "markdown",
   "metadata": {},
   "source": [
    "**Общее заключение**"
   ]
  },
  {
   "cell_type": "markdown",
   "metadata": {},
   "source": [
    "1. По результатам проведения тестов относительно конверсии в покупку, новая механика оплаты не оказала влияния на результат.\n",
    "\n",
    "\n",
    "2. Зафиксированы стастистически значимые изменения среднего чека.\n",
    "    - при рассмотрении распределения часть пользователей, которые ранее делали заказы на относительно небольшие суммы сместились в сторону увеличения стоимости заказа.\n",
    "    - изменился разборос значений стоимости заказов, увеличилось число заказов в группе В на сумму примерно 1900 по сравнения с группой А со старой механикой оплаты, где пиковое значение приходилось примерно на 400.\n",
    "\n",
    "\n",
    "3. Различия в показателях могут быть связаны с новой механикой оплаты. Поскольку по результатам конверсия не изменилась, т.е. пропорция покупающих пользователей осталось примерно на прежнем уровне. Предположим, что нововведение заключалось в снижени стоимости товаров при увеличении количества товаров в корзине, за счет чего произошло увеличение среднего чека. Также одним из возможных факторов, нарушение в работе сиситемы сплиттования, которая изначально выбрала не похожие друг на друга группы. Следовательно, чтобы удостовериться в результате, необходиио верефецировться с результатами АА теста.\n",
    "\n",
    "\n",
    "4. Поскольку негативные последствия нововведения в ходе исследования не выявлены, рекомендуется применить новую мехнику оплаты на всех пользователях."
   ]
  },
  {
   "cell_type": "markdown",
   "metadata": {},
   "source": [
    "## Задание 2. SQL\n",
    "### 2.1 Очень усердные ученики\n",
    "\n",
    "#### 2.1.1 Условие\n",
    "\n",
    "Образовательные курсы состоят из различных уроков, каждый из которых состоит из нескольких маленьких заданий. Каждое такое маленькое задание называется \"горошиной\".\n",
    "\n",
    "Назовём очень усердным учеником того пользователя, который хотя бы раз за текущий месяц **правильно** решил 20 горошин.\n",
    "\n",
    "#### 2.1.2 Задача\n",
    "\n",
    "Дана таблица `default.peas`:\n",
    "\n",
    "\n",
    "    \n",
    "| Название атрибута | Тип атрибута | Смысловое значение                     |\n",
    "|:-------------------|:-------------|:-------------------------------------|\n",
    "| st_id             | int          | ID ученика                             |\n",
    "| timest            | timestamp    | Время решения карточки                 |\n",
    "| correct           | bool         | Правильно ли решена горошина?         |\n",
    "| subject           | text         | Дисциплина, в которой находится горошина |\n",
    "    \n",
    "\n",
    "\n",
    "\n",
    "\n",
    "\n",
    "Необходимо написать **оптимальный** запрос, который даст информацию о количестве очень усердных студентов.NB! Под усердным студентом мы понимаем студента, который правильно решил 20 задач за текущий месяц."
   ]
  },
  {
   "cell_type": "markdown",
   "metadata": {},
   "source": [
    "**2.1.3 Формирование запроса**"
   ]
  },
  {
   "cell_type": "markdown",
   "metadata": {},
   "source": [
    "Обратим внимание на формулировку задания \"Под усердным студентом мы понимаем студента, который правильно решил 20 задач **за текущий месяц**.\"\n",
    "\n",
    "Поскольку в данных clickhouse `default.peas` содержиться информаци только с 2021-10-30 по 2021-10-31. По определению информация на момент 2023 года отсутствует. Предлагается варинт с учетом не актуальности данных, который определить крайний месяц в датасете."
   ]
  },
  {
   "cell_type": "markdown",
   "metadata": {},
   "source": [
    "~~~~sql\n",
    "-- Блок WITH для определения начала \"текущего месяца\"\n",
    "WITH(\n",
    "    SELECT\n",
    "        toStartOfMonth(MAX(timest))\n",
    "    FROM\n",
    "        default.peas\n",
    "    ) AS to_day\n",
    "    \n",
    "\n",
    "-- Внешний запрос, который вычисляет уникальное количество усердных студентов\n",
    "SELECT\n",
    "    uniqExact(hardworking_students) AS count_hardworking_students\n",
    "FROM\n",
    "    (\n",
    "    -- Внутренний запрос (вложенный подзапрос):\n",
    "    SELECT\n",
    "        st_id AS hardworking_students,          -- Псевдоним для столбца st_id\n",
    "        SUM(correct) AS Number_peas             -- Вычисление суммы правильных решений для каждого студента\n",
    "    FROM\n",
    "        default.peas                            -- Исходная таблица\n",
    "    WHERE\n",
    "        toStartOfMonth(timest) = to_day         -- Фильтрация по началу текущего месяца\n",
    "    GROUP BY\n",
    "        hardworking_students                    -- Группировка данных по студентам\n",
    "    HAVING\n",
    "        Number_peas >= 20                       -- Фильтрация по количеству правильных решений (больше или равно 20)\n",
    "    )\n",
    "~~~~"
   ]
  },
  {
   "cell_type": "markdown",
   "metadata": {},
   "source": [
    "### 2.2 Оптимизация воронки\n",
    "\n",
    "#### 2.2.1 Условие\n",
    "\n",
    "Образовательная платформа предлагает пройти студентам курсы по модели trial: студент может решить бесплатно лишь 30 горошин в день. Для неограниченного количества заданий в определенной дисциплине студенту необходимо приобрести полный доступ. Команда провела эксперимент, где был протестирован новый экран оплаты.\n",
    "\n",
    "#### 2.2.2 Задача\n",
    "\n",
    "Дана таблицы: default.peas (см. выше), default.studs:\n",
    "\n",
    "\n",
    "\n",
    "| Название атрибута | Тип атрибута | Смысловое значение          |\n",
    "|:-------------------|:-------------|:---------------------------|\n",
    "| st_id             | int          | ID ученика                 |\n",
    "| test_grp          | text         | Метка ученика в эксперименте |\n",
    "\n",
    "\n",
    "\n",
    "\n",
    "Название атрибута\tТип атрибута\tСмысловое значение\n",
    "\n",
    "\n",
    "| Название атрибута | Тип атрибута | Смысловое значение            |\n",
    "|:-------------------|:-------------|:-----------------------------|\n",
    "| st_id             | int          | ID ученика                    |\n",
    "| sale_time         | timestamp    | Время покупки                 |\n",
    "| money             | int          | Цена, по которой приобрели курс |\n",
    "| subject           | text         |                              |\n",
    "\n",
    "\t\n",
    "Необходимо в одном запросе выгрузить следующую информацию о группах пользователей:\n",
    "\n",
    "- ARPU \n",
    "- ARPAU \n",
    "- CR в покупку \n",
    "- СR активного пользователя в покупку \n",
    "- CR пользователя из активности по математике (subject = ’math’) в покупку курса по математике\n",
    "- ARPU считается относительно всех пользователей, попавших в группы.\n",
    "\n",
    "**Активным** считается пользователь, за все время решивший больше 10 задач правильно в любых дисциплинах.\n",
    "\n",
    "**Активным** по математике считается пользователь, за все время решивший 2 или больше задач правильно по математике."
   ]
  },
  {
   "cell_type": "markdown",
   "metadata": {},
   "source": [
    "**2.2.3 Описание метрик**"
   ]
  },
  {
   "cell_type": "markdown",
   "metadata": {},
   "source": [
    "Рассмотрим подробнее каждую из метрик:\n",
    "\n",
    "1. **ARPU** (Average Revenue Per User):\n",
    "    - Определение: Средний доход с пользователя.\n",
    "    - Расчёт: ARPU = (Общий доход / Общее количество пользователей)\n",
    "\n",
    "\n",
    "2. **ARPAU** (Average Revenue Per Active User):\n",
    "    - Определение: Средний доход с активного пользователя.\n",
    "    - Расчёт: ARPAU = (Общий доход / Количество активных пользователей)\n",
    "\n",
    "\n",
    "3. **CR в покупку** (Conversion Rate в покупку):\n",
    "    - Определение: Процент пользователей, купивших курс.\n",
    "    - Расчёт: CR в покупку = (Количество пользователей с покупками / Количество пользователей)\n",
    "\n",
    "\n",
    "4. **CR активного пользователя в покупку** (Conversion Rate активного пользователя в покупку):\n",
    "    - Определение: Процент активных пользователей, перешедших от активности к покупке.\n",
    "    - Расчёт: CR активного пользователя в покупку = (Количество активных пользователей с покупками / Количество активных пользователей)\n",
    "\n",
    "\n",
    "5. **CR пользователя из активности по математике в покупку курса по математике**:\n",
    "    - Определение: Процент пользователей, активность которых в математике привела к покупке курса по математике.\n",
    "    - Расчёт: CR пользователя из активности по математике в покупку курса по математике = (Количество пользователей с покупками курса по математике / Количество пользователей с активностью по математике)"
   ]
  },
  {
   "cell_type": "markdown",
   "metadata": {},
   "source": [
    "**2.2.3 Формирование запроса**"
   ]
  },
  {
   "cell_type": "markdown",
   "metadata": {},
   "source": [
    "~~~~sql\n",
    "SELECT\n",
    "    -- Расчет метрик для control, pilot групп\n",
    "    test_grp,\n",
    "    SUM(sum_check) / COUNT(st_id) AS ARPU,\n",
    "    SUM(sum_check) / COUNT(CASE WHEN Active_students_Number_peas != 0 THEN st_id END) AS ARPAU,\n",
    "    COUNT(CASE WHEN sum_check != 0 THEN st_id END) / COUNT(st_id) AS CR,\n",
    "    COUNT(CASE WHEN sum_check != 0  AND  Active_students_Number_peas != 0 THEN st_id END) / COUNT(CASE WHEN Active_students_Number_peas != 0 THEN st_id END) AS CR_Active_students,\n",
    "    COUNT(CASE WHEN sum_check_Math != 0  AND  Active_students_math_Number_peas != 0 THEN st_id END) / COUNT(CASE WHEN Active_students_math_Number_peas != 0 THEN st_id END) AS CR_Active_students_math    \n",
    "FROM\n",
    "    (\n",
    "    SELECT\n",
    "        l.st_id AS st_id,\n",
    "        l.test_grp AS test_grp,\n",
    "        l.Active_students_Number_peas AS Active_students_Number_peas,\n",
    "        l.Active_students_math_Number_peas AS Active_students_math_Number_peas,\n",
    "        l.sum_check AS sum_check,\n",
    "        r.sum_check_Math AS sum_check_Math\n",
    "    FROM\n",
    "        (\n",
    "        SELECT\n",
    "            l.st_id AS st_id,\n",
    "            l.test_grp AS test_grp,\n",
    "            l.Active_students_Number_peas AS Active_students_Number_peas,\n",
    "            l.Active_students_math_Number_peas AS Active_students_math_Number_peas,\n",
    "            r.sum_check AS sum_check\n",
    "        FROM\n",
    "            (\n",
    "            SELECT\n",
    "                Active_students_data.st_id AS st_id,\n",
    "                Active_students_data.test_grp AS test_grp,\n",
    "                Active_students_data.Active_students_Number_peas AS Active_students_Number_peas,\n",
    "                Active_students_math_data.Number_peas AS Active_students_math_Number_peas\n",
    "            FROM\n",
    "                (\n",
    "                SELECT\n",
    "                    grp.st_id AS st_id,\n",
    "                    grp.test_grp AS test_grp,\n",
    "                    Active_students_data.Number_peas AS Active_students_Number_peas\n",
    "                FROM\n",
    "                    default.studs AS grp\n",
    "                -- 2. Объединение таблицы с данными о граппах (control, pilot) через LEFT JOIN с данными об Активных студентах\n",
    "                LEFT JOIN \n",
    "                        (\n",
    "                         -- 1. Активне студенты внутренний запрос (вложенный подзапрос):\n",
    "                         SELECT\n",
    "                             st_id AS st_id,                -- Псевдоним для столбца st_id\n",
    "                             SUM(correct) AS Number_peas    -- Вычисление суммы правильных решений для каждого студента\n",
    "                         FROM\n",
    "                             default.peas                   -- Исходная таблица по решениям\n",
    "                         GROUP BY\n",
    "                             st_id                          -- Группировка данных по студентам\n",
    "                         HAVING\n",
    "                             Number_peas > 10               -- Фильтрация по количеству правильных решений (больше 10)\n",
    "                        ) AS Active_students_data\n",
    "                ON grp.st_id = Active_students_data.st_id\n",
    "                ) AS Active_students_data\n",
    "            -- 3. Объединение таблицы с данными о граппах и Активных студентах через LEFT JOIN с данными об Активных студентах по математике\n",
    "            LEFT JOIN\n",
    "                (\n",
    "                -- Активне студенты по математике внутренний запрос (вложенный подзапрос):\n",
    "                SELECT\n",
    "                    st_id AS Active_students_math_id,       -- Псевдоним для столбца st_id\n",
    "                    SUM(correct) AS Number_peas             -- Вычисление суммы правильных решений для каждого студента\n",
    "                FROM\n",
    "                    default.peas                            -- Исходная таблица по решениям\n",
    "                WHERE\n",
    "                    subject = 'Math'                        -- Фильтрация по предмету математика\n",
    "                GROUP BY\n",
    "                    Active_students_math_id                 -- Группировка данных по студентам\n",
    "                HAVING                                      -- Фильтрация по количеству правильных решений по матиматике (равным 2 и более)\n",
    "                    Number_peas >= 2\n",
    "                ) AS Active_students_math_data\n",
    "            ON Active_students_data.st_id = Active_students_math_data.Active_students_math_id\n",
    "            ) AS l\n",
    "        -- 4. Объединение таблицы с данными о граппах, Активных студентах и Активных студентах по математике через LEFT JOIN с данными о продажах\n",
    "        LEFT JOIN\n",
    "            (\n",
    "            -- Пользователи, купившие курс внутренний запрос (вложенный подзапрос):\n",
    "            SELECT\n",
    "                st_id,\n",
    "                SUM(money) AS sum_check                     -- Вычисление суммарного чека отдельного пользователя\n",
    "            FROM\n",
    "                default.final_project_check                 -- Исходная таблица по продажам\n",
    "            GROUP BY\n",
    "                st_id                                       -- Группировка данных по студентам\n",
    "            ) AS r         \n",
    "        ON l.st_id = r.st_id\n",
    "        ) AS l\n",
    "    -- 5. Объединение таблицы с данными о граппах, Активных студентах, Активных студентах по математике, Пользователях купивших курс через LEFT JOIN с данными о пользователях купивших курс по математике  \n",
    "    LEFT JOIN\n",
    "        (\n",
    "        -- Пользователи, купившие курс по математике внутренний запрос (вложенный подзапрос):\n",
    "        SELECT\n",
    "            st_id,\n",
    "            SUM(money) AS sum_check_Math                     -- Вычисление суммарного чека отдельного пользователя\n",
    "        FROM\n",
    "            default.final_project_check                      -- Исходная таблица по продажам\n",
    "        WHERE\n",
    "            subject = 'Math'                                 -- Фильтрация по предмету математика\n",
    "        GROUP BY\n",
    "            st_id                                            -- Группировка данных по студентам\n",
    "        ) AS r\n",
    "    ON l.st_id = r.st_id\n",
    "    )\n",
    "GROUP BY\n",
    "    test_grp\n",
    "~~~~"
   ]
  },
  {
   "cell_type": "markdown",
   "metadata": {},
   "source": [
    "## Задание 3. Python\n",
    "### 3.1 Задача\n",
    "\n",
    "1. Реализуйте функцию, которая будет автоматически подгружать информацию из дополнительного файла groups_add.csv (заголовки могут отличаться) и на основании дополнительных параметров пересчитывать метрики.\n",
    "2. Реализуйте функцию, которая будет строить графики по получаемым метрикам."
   ]
  },
  {
   "cell_type": "markdown",
   "metadata": {},
   "source": [
    "### Функция загрузки исходных данных и пересчета метрик"
   ]
  },
  {
   "cell_type": "markdown",
   "metadata": {},
   "source": [
    "1. Реализуйте функцию, которая будет автоматически подгружать информацию из дополнительного файла groups_add.csv (заголовки могут отличаться) и на основании дополнительных параметров пересчитывать метрики."
   ]
  },
  {
   "cell_type": "code",
   "execution_count": 77,
   "metadata": {},
   "outputs": [],
   "source": [
    "def recalculate_metrics(groups, active_studs, checks):\n",
    "    \n",
    "    \"\"\"\n",
    "    Функция для пересчета метрик на основе данных о группах, активных студентах и транзакциях.\n",
    "\n",
    "    Параметры:\n",
    "    - groups: pandas.DataFrame\n",
    "        Данные о принадлежности пользователя к контрольной или экспериментальной группе.\n",
    "    - active_studs: pandas.DataFrame\n",
    "        Данные о пользователях, которые зашли на платформу в дни проведения эксперимента.\n",
    "    - checks: pandas.DataFrame\n",
    "        Данные об оплатах пользователей в дни проведения эксперимента.\n",
    "\n",
    "    Возвращает:\n",
    "    pandas.DataFrame\n",
    "        Датафрейм с пересчитанными метриками, включая конверсию в покупку (CR).\n",
    "    \"\"\"\n",
    "    \n",
    "    # Импорт исходных данных\n",
    "    \n",
    "    base_url                            = 'https://cloud-api.yandex.net/v1/disk/public/resources/download?'\n",
    "\n",
    "    # Вписываем ссылку  \n",
    "    public_key_groups_add               = 'https://disk.yandex.ru/d/5Kxrz02m3IBUwQ' # groups_add.csv\n",
    "\n",
    "    # Получаем загрузочную ссылку  \n",
    "    final_url_groups_add                = base_url + urlencode(dict(public_key=public_key_groups_add))\n",
    "    response                            = requests.get(final_url_groups_add) # запрос ссылки на скачивание\n",
    "    download_url_groups_add             = response.json()['href'] # 'парсинг' ссылки на скачивание\n",
    "    \n",
    "    # Поскольку предполагается, что у нас заведомо есть предстваление о основных данных groups\n",
    "    # (т.е. состоит из id пользователя и распределения по группам)\n",
    "    # структура groups_add будет похожа, хотя названия мтолбцов могут отличаться.\n",
    "    \n",
    "    # Загружаем файл и сохраняем\n",
    "    groups_add                          = pd.read_csv(download_url_groups_add, names=groups.columns)\n",
    "\n",
    "    # Объединение данных\n",
    "    concat_groups = pd.concat([groups, groups_add],  axis=0)\n",
    "\n",
    "    # Объедение concat_groups с active_studs через left\n",
    "    experiment_users_data = pd.merge(active_studs, \n",
    "                                     concat_groups, \n",
    "                                     left_on  = active_studs.columns[0],\n",
    "                                     right_on = concat_groups.columns[0], \n",
    "                                     how      = 'left')\\\n",
    "                              .drop(columns=f'{concat_groups.columns[0]}')\n",
    "    \n",
    "    # Объедение experiment_users_data с checks через left\n",
    "    experiment_users_data = pd.merge(experiment_users_data, \n",
    "                                     checks, \n",
    "                                     left_on  = experiment_users_data.columns[0],\n",
    "                                     right_on = checks.columns[0], \n",
    "                                     how      = 'left')\n",
    "    \n",
    "    # Расчет метрик\n",
    "    \n",
    "    # Конверсия в покупку (CR)\n",
    "    \n",
    "    # Создание столбца в зависимости от значения в столбце rev\n",
    "    experiment_users_data['rev_bin'] = np.where(experiment_users_data.iloc[:, 2].isna(), 0, 1)\n",
    "    \n",
    "    # Группировка данных по принадлежности к группам и транзакциям\n",
    "    count_users = experiment_users_data.groupby([experiment_users_data.columns[1], 'rev_bin'], as_index=False)\\\n",
    "                                       .agg({experiment_users_data.columns[0]: 'count'})\\\n",
    "                                       .rename(columns={experiment_users_data.columns[0]: 'count_users'})\n",
    "    \n",
    "    # Данные с произведенной оплатой, т.е. rev_bin = 1\n",
    "    count_paying_users = count_users[ count_users['rev_bin'] == 1 ].drop(columns={'rev_bin'})\\\n",
    "                                                                   .rename(columns={'count_users': 'count_paying_users'})\n",
    "    # Количество пользователей в каждой группе\n",
    "    A = experiment_users_data.grp.value_counts()[1]\n",
    "    B = experiment_users_data.grp.value_counts()[0]\n",
    "    \n",
    "    # Расчет конверсии в зависимости от принадлежности к группе\n",
    "    count_paying_users['CR'] = count_paying_users.apply(lambda x: x['count_paying_users'] / A \n",
    "                                                        if        x[experiment_users_data.columns[1]] == 'A' \n",
    "                                                        else      x['count_paying_users'] / B, axis=1)\n",
    "    \n",
    "    # Округление до 3 знака после разделителя\n",
    "    count_paying_users.CR = round(count_paying_users.CR, 3)\n",
    "    \n",
    "    \n",
    "    # Средний чек\n",
    "    \n",
    "    # Группировка данных по принадлежности к группам и транзакциям\n",
    "    mean_check = experiment_users_data.groupby([experiment_users_data.columns[1], 'rev_bin'], as_index=False)\\\n",
    "                                      .agg({'rev': 'mean'})\\\n",
    "                                      .rename(columns={'rev': 'mean_check'})\\\n",
    "                                      .round(1)\n",
    "    \n",
    "    # Данные с произведенной оплатой, т.е. rev_bin = 1\n",
    "    mean_check = mean_check[ mean_check['rev_bin'] == 1 ].drop(columns={'rev_bin'})\n",
    "    \n",
    "    # Объединение расчитанных метрик в единый DataFrame\n",
    "    metrics = pd.merge(count_paying_users, mean_check, on=experiment_users_data.columns[1])\n",
    "    \n",
    "    # Вывод результата\n",
    "    return metrics"
   ]
  },
  {
   "cell_type": "code",
   "execution_count": 78,
   "metadata": {},
   "outputs": [
    {
     "data": {
      "text/html": [
       "<div>\n",
       "<style scoped>\n",
       "    .dataframe tbody tr th:only-of-type {\n",
       "        vertical-align: middle;\n",
       "    }\n",
       "\n",
       "    .dataframe tbody tr th {\n",
       "        vertical-align: top;\n",
       "    }\n",
       "\n",
       "    .dataframe thead th {\n",
       "        text-align: right;\n",
       "    }\n",
       "</style>\n",
       "<table border=\"1\" class=\"dataframe\">\n",
       "  <thead>\n",
       "    <tr style=\"text-align: right;\">\n",
       "      <th></th>\n",
       "      <th>grp</th>\n",
       "      <th>count_paying_users</th>\n",
       "      <th>CR</th>\n",
       "      <th>mean_check</th>\n",
       "    </tr>\n",
       "  </thead>\n",
       "  <tbody>\n",
       "    <tr>\n",
       "      <th>0</th>\n",
       "      <td>A</td>\n",
       "      <td>78</td>\n",
       "      <td>0.051</td>\n",
       "      <td>933.6</td>\n",
       "    </tr>\n",
       "    <tr>\n",
       "      <th>1</th>\n",
       "      <td>B</td>\n",
       "      <td>313</td>\n",
       "      <td>0.046</td>\n",
       "      <td>1255.8</td>\n",
       "    </tr>\n",
       "  </tbody>\n",
       "</table>\n",
       "</div>"
      ],
      "text/plain": [
       "  grp  count_paying_users     CR  mean_check\n",
       "0   A                  78  0.051       933.6\n",
       "1   B                 313  0.046      1255.8"
      ]
     },
     "execution_count": 78,
     "metadata": {},
     "output_type": "execute_result"
    }
   ],
   "source": [
    "metrics = recalculate_metrics(groups=groups, active_studs=active_studs, checks=checks)\n",
    "metrics"
   ]
  },
  {
   "cell_type": "markdown",
   "metadata": {},
   "source": [
    "### Функция визуализации метрик"
   ]
  },
  {
   "cell_type": "markdown",
   "metadata": {},
   "source": [
    "2. Реализуйте функцию, которая будет строить графики по получаемым метрикам."
   ]
  },
  {
   "cell_type": "code",
   "execution_count": 21,
   "metadata": {},
   "outputs": [],
   "source": [
    "import matplotlib.pyplot as plt\n",
    "import seaborn as sns\n",
    "\n",
    "def create_bar_plot_with_customization(data, \n",
    "                                       color_A=\"gray\",\n",
    "                                       color_B=\"orange\",\n",
    "                                       title_1=None, \n",
    "                                       title_2=None,\n",
    "                                       x_label=None, \n",
    "                                       y_label=None,\n",
    "                                       legend_1=None,\n",
    "                                       legend_2=None,\n",
    "                                       annotate=True,\n",
    "                                       x_size=14,\n",
    "                                       y_size=8,\n",
    "                                       h_CR=0.0005,\n",
    "                                       h_mean_check=10,                                       \n",
    "                                       decimal_places_CR=3,\n",
    "                                       decimal_places_mean_check=1):\n",
    "    \n",
    "    \"\"\"\n",
    "    Создает настраиваемую столбчатую диаграмму с двумя подграфиками: один для конверсии (CR) и второй для среднего чека.\n",
    "    Столбец с группами должен быть первым.\n",
    "\n",
    "    Параметры:\n",
    "    - data: DataFrame, входные данные для построения графика.\n",
    "    - color_A: str, цвет для первой группы.\n",
    "    - color_B: str, цвет для второй группы.\n",
    "    - title_1: str, заголовок для первого подграфика (CR).\n",
    "    - title_2: str, заголовок для второго подграфика (средний чек).\n",
    "    - x_label: str, подпись оси x.\n",
    "    - y_label: str, подпись оси y.\n",
    "    - legend_1: str, подпись легенды для первой группы.\n",
    "    - legend_2: str, подпись легенды для второй группы.\n",
    "    - annotate: bool, добавлять ли аннотации с значениями столбцов.\n",
    "    - x_size: int, ширина всего графика.\n",
    "    - y_size: int, высота всего графика.\n",
    "    - h_CR: float, высота для аннотаций CR.\n",
    "    - h_mean_check: float, высота для аннотаций среднего чека.\n",
    "    - decimal_places_CR: int, количество десятичных знаков для аннотаций CR.\n",
    "    - decimal_places_mean_check: int, количество десятичных знаков для аннотаций среднего чека.\n",
    "    \n",
    "    \"\"\"\n",
    "    \n",
    "    # Визуализация конверсии (CR)\n",
    "    x_column = data.columns[0]\n",
    "    y_columns = data.columns[1:]\n",
    "\n",
    "    y_CR = 'CR'\n",
    "    if y_CR in y_columns:\n",
    "        h_CR = h_CR\n",
    "    \n",
    "    y_mean_check = 'mean_check'\n",
    "    if y_mean_check in y_columns:\n",
    "        h_mean_check = h_mean_check\n",
    "        \n",
    "    colors = {data[x_column].unique()[0]: color_A, \n",
    "              data[x_column].unique()[1]: color_B}\n",
    "    \n",
    "    # Визуализация конверсии (CR)\n",
    "    plt.figure(figsize=(x_size, y_size))\n",
    "    ax_CR = plt.subplot(1, 2, 1)\n",
    "    sns.barplot(data=data, x=x_column, y=y_CR, palette=colors.values(), saturation=0.9)\n",
    "\n",
    "    # Настройка графика\n",
    "    if title_1 is not None:\n",
    "        plt.title(title_1)\n",
    "    if x_label is not None:\n",
    "        plt.xlabel(x_label)\n",
    "    if y_label is not None:\n",
    "        plt.ylabel(y_label)\n",
    "\n",
    "    # Настройка легенды\n",
    "    if legend_1 and legend_2 is not None:\n",
    "        legend_labels = [plt.Line2D([0], [0], color=color, lw=4, label=legend_1 if color == color_A else legend_2) for color in colors.values()]\n",
    "        plt.legend(handles=legend_labels, title='Легенда')\n",
    "    else:\n",
    "        legend_labels = [plt.Line2D([0], [0], color=color, lw=4, label=label if color == color_A else label) for label, color in colors.items()]\n",
    "        plt.legend(handles=legend_labels, title='Легенда')\n",
    "    \n",
    "    # Добавление аннотаций со значениями столбцов\n",
    "    if annotate:\n",
    "        for p in ax_CR.patches:\n",
    "            value = round(p.get_height(), decimal_places_CR)\n",
    "            ax_CR.annotate(f'{value:.{decimal_places_CR}f}', (p.get_x() + p.get_width() / 2., p.get_height() + h_CR),\n",
    "                           ha='center', va='baseline', fontsize=12, color='black')\n",
    "    \n",
    "    # Визуализация среднего чека\n",
    "    ax_mean_check = plt.subplot(1, 2, 2)\n",
    "    sns.barplot(data=data, x=x_column, y=y_mean_check, palette=colors.values(), saturation=0.9)\n",
    "\n",
    "    # Настройка графика\n",
    "    if title_2 is not None:\n",
    "        plt.title(title_2)\n",
    "    if x_label is not None:\n",
    "        plt.xlabel(x_label)\n",
    "    if y_label is not None:\n",
    "        plt.ylabel(y_label)\n",
    "\n",
    "    # Настройка легенды\n",
    "    if legend_1 and legend_2 is not None:\n",
    "        legend_labels = [plt.Line2D([0], [0], color=color, lw=4, label=legend_1 if color == color_A else legend_2) for color in colors.values()]\n",
    "        plt.legend(handles=legend_labels, title='Легенда')\n",
    "    else:\n",
    "        legend_labels = [plt.Line2D([0], [0], color=color, lw=4, label=label if color == color_A else label) for label, color in colors.items()]\n",
    "        plt.legend(handles=legend_labels, title='Легенда')\n",
    "    \n",
    "    # Добавление аннотаций со значениями столбцов\n",
    "    if annotate:\n",
    "        for p in ax_mean_check.patches:\n",
    "            value = round(p.get_height(), decimal_places_mean_check)\n",
    "            ax_mean_check.annotate(f'{value:.{decimal_places_mean_check}f}', (p.get_x() + p.get_width() / 2., p.get_height() + h_mean_check),\n",
    "                                   ha='center', va='baseline', fontsize=12, color='black')"
   ]
  },
  {
   "cell_type": "code",
   "execution_count": 80,
   "metadata": {},
   "outputs": [
    {
     "data": {
      "image/png": "[encoded data removed]",
      "text/plain": [
       "<Figure size 1008x576 with 2 Axes>"
      ]
     },
     "metadata": {
      "needs_background": "light"
     },
     "output_type": "display_data"
    }
   ],
   "source": [
    "create_bar_plot_with_customization(data=metrics, \n",
    "                                   title_1='Расчет конверсии',  \n",
    "                                   title_2='Расчет среднего чека', \n",
    "                                   x_label='Группы')"
   ]
  }
 ],
 "metadata": {
  "kernelspec": {
   "display_name": "Python 3 (ipykernel)",
   "language": "python",
   "name": "python3"
  },
  "language_info": {
   "codemirror_mode": {
    "name": "ipython",
    "version": 3
   },
   "file_extension": ".py",
   "mimetype": "text/x-python",
   "name": "python",
   "nbconvert_exporter": "python",
   "pygments_lexer": "ipython3",
   "version": "3.9.13"
  }
 },
 "nbformat": 4,
 "nbformat_minor": 4
}
